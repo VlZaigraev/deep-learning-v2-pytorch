{
  "cells": [
    {
      "cell_type": "markdown",
      "metadata": {
        "id": "-RZ0wsByfFxJ"
      },
      "source": [
        "# Inference and Validation\n",
        "\n",
        "Now that you have a trained network, you can use it for making predictions. This is typically called **inference**, a term borrowed from statistics. However, neural networks have a tendency to perform *too well* on the training data and aren't able to generalize to data that hasn't been seen before. This is called **overfitting** and it impairs inference performance. To test for overfitting while training, we measure the performance on data not in the training set called the **validation** set. We avoid overfitting through regularization such as dropout while monitoring the validation performance during training. In this notebook, I'll show you how to do this in PyTorch. \n",
        "\n",
        "As usual, let's start by loading the dataset through torchvision. You'll learn more about torchvision and loading data in a later part. This time we'll be taking advantage of the test set which you can get by setting `train=False` here:\n",
        "\n",
        "```python\n",
        "testset = datasets.FashionMNIST('~/.pytorch/F_MNIST_data/', download=True, train=False, transform=transform)\n",
        "```\n",
        "\n",
        "The test set contains images just like the training set. Typically you'll see 10-20% of the original dataset held out for testing and validation with the rest being used for training."
      ]
    },
    {
      "cell_type": "code",
      "source": [
        "import matplotlib.pyplot as plt\n",
        "import torch\n",
        "import torch.nn.functional as F\n",
        "\n",
        "from torch import nn, optim\n",
        "from torchvision import datasets, transforms\n",
        "from tqdm import tqdm\n",
        "\n",
        "torch.set_printoptions(4)\n"
      ],
      "metadata": {
        "id": "nVGK--SmCVCC"
      },
      "execution_count": 123,
      "outputs": []
    },
    {
      "cell_type": "markdown",
      "source": [
        "## Data"
      ],
      "metadata": {
        "id": "oynmIks3CVl4"
      }
    },
    {
      "cell_type": "code",
      "source": [
        "class_names = ['Футболка / топ', \"Шорты\", \"Свитер\", \"Платье\",\n",
        "              \"Плащ\", \"Сандали\", \"Рубашка\", \"Кроссовок\", \"Сумка\",\n",
        "              \"Ботинок\"]"
      ],
      "metadata": {
        "id": "rdJYVMbaCbFt"
      },
      "execution_count": 114,
      "outputs": []
    },
    {
      "cell_type": "code",
      "execution_count": 41,
      "metadata": {
        "id": "TfJi4_jTfFxM"
      },
      "outputs": [],
      "source": [
        "# Define a transform to normalize the data\n",
        "transform = transforms.Compose([transforms.ToTensor(),\n",
        "                                transforms.Normalize((0.5,), (0.5,))])\n",
        "# Download and load the training data\n",
        "trainset = datasets.FashionMNIST('~/.pytorch/F_MNIST_data/', download=True, train=True, transform=transform)\n",
        "trainloader = torch.utils.data.DataLoader(trainset, batch_size=64, shuffle=True)\n",
        "\n",
        "# Download and load the test data\n",
        "testset = datasets.FashionMNIST('~/.pytorch/F_MNIST_data/', download=True, train=False, transform=transform)\n",
        "testloader = torch.utils.data.DataLoader(testset, batch_size=64, shuffle=True)"
      ]
    },
    {
      "cell_type": "markdown",
      "source": [
        "## Model Definition"
      ],
      "metadata": {
        "id": "PS5hdjYlCdHd"
      }
    },
    {
      "cell_type": "markdown",
      "metadata": {
        "id": "9KYWl7KofFxO"
      },
      "source": [
        "Here I'll create a model like normal, using the same one from my solution for part 4."
      ]
    },
    {
      "cell_type": "code",
      "execution_count": 39,
      "metadata": {
        "id": "N6phca5OfFxP"
      },
      "outputs": [],
      "source": [
        "class Classifier(nn.Module):\n",
        "    def __init__(self, input_dim = 784, hidden_dims = (256, 128, 64), out_dim = 10):\n",
        "        super().__init__()\n",
        "        \n",
        "        dims = (input_dim,) + hidden_dims\n",
        "        self.fc_stack = [nn.Linear(dims[i], dims[i+1]) for i, _ in enumerate(dims[:-1])]\n",
        "        self.fc_out = nn.Linear(hidden_dims[-1], out_dim)\n",
        "\n",
        "    def forward(self, x):\n",
        "        # make sure input tensor is flattened\n",
        "        x = x.flatten(start_dim = 1) #x.view(x.shape[0], -1)\n",
        "        \n",
        "        for fc in self.fc_stack:\n",
        "            x = F.relu(fc(x))\n",
        "\n",
        "        return F.log_softmax(self.fc_out(x), dim=1)\n",
        "        "
      ]
    },
    {
      "cell_type": "markdown",
      "metadata": {
        "id": "diZNCtkzfFxR"
      },
      "source": [
        "The goal of validation is to measure the model's performance on data that isn't part of the training set. Performance here is up to the developer to define though. Typically this is just accuracy, the percentage of classes the network predicted correctly. Other options are [precision and recall](https://en.wikipedia.org/wiki/Precision_and_recall#Definition_(classification_context)) and top-5 error rate. We'll focus on accuracy here. First I'll do a forward pass with one batch from the test set."
      ]
    },
    {
      "cell_type": "code",
      "execution_count": 67,
      "metadata": {
        "id": "qVC4MHrjfFxR",
        "outputId": "d6dd077e-1016-46d8-c800-6a32eb6edbd9",
        "colab": {
          "base_uri": "https://localhost:8080/",
          "height": 335
        }
      },
      "outputs": [
        {
          "output_type": "stream",
          "name": "stdout",
          "text": [
            "torch.Size([64, 10])\n"
          ]
        },
        {
          "output_type": "display_data",
          "data": {
            "text/plain": [
              "<Figure size 432x288 with 1 Axes>"
            ],
            "image/png": "[encoded data removed]"
          },
          "metadata": {
            "needs_background": "light"
          }
        }
      ],
      "source": [
        "model = Classifier()\n",
        "\n",
        "images, labels = next(iter(testloader))\n",
        "# Get the class probabilities\n",
        "ps = torch.exp(model(images))\n",
        "# Make sure the shape is appropriate, we should get 10 class probabilities for 64 examples\n",
        "plt.bar(class_names, ps[0].detach())\n",
        "plt.xticks(rotation=45)\n",
        "print(ps.shape)"
      ]
    },
    {
      "cell_type": "markdown",
      "metadata": {
        "id": "l6w-E4-0fFxS"
      },
      "source": [
        "With the probabilities, we can get the most likely class using the `ps.topk` method. This returns the $k$ highest values. Since we just want the most likely class, we can use `ps.topk(1)`. This returns a tuple of the top-$k$ values and the top-$k$ indices. If the highest value is the fifth element, we'll get back 4 as the index."
      ]
    },
    {
      "cell_type": "code",
      "execution_count": 74,
      "metadata": {
        "id": "9ZaS4n-RfFxT",
        "outputId": "d294260c-069c-40e8-a658-caec6977ad81",
        "colab": {
          "base_uri": "https://localhost:8080/"
        }
      },
      "outputs": [
        {
          "output_type": "execute_result",
          "data": {
            "text/plain": [
              "[(tensor([9]), tensor([0.1117], grad_fn=<UnbindBackward0>)),\n",
              " (tensor([9]), tensor([0.1125], grad_fn=<UnbindBackward0>)),\n",
              " (tensor([5]), tensor([0.1123], grad_fn=<UnbindBackward0>)),\n",
              " (tensor([5]), tensor([0.1137], grad_fn=<UnbindBackward0>)),\n",
              " (tensor([7]), tensor([0.1126], grad_fn=<UnbindBackward0>)),\n",
              " (tensor([5]), tensor([0.1133], grad_fn=<UnbindBackward0>)),\n",
              " (tensor([7]), tensor([0.1124], grad_fn=<UnbindBackward0>)),\n",
              " (tensor([5]), tensor([0.1129], grad_fn=<UnbindBackward0>)),\n",
              " (tensor([7]), tensor([0.1151], grad_fn=<UnbindBackward0>)),\n",
              " (tensor([5]), tensor([0.1138], grad_fn=<UnbindBackward0>))]"
            ]
          },
          "metadata": {},
          "execution_count": 74
        }
      ],
      "source": [
        "top_p, top_class = ps.topk(1, dim=1)\n",
        "# Look at the most likely classes for the first 10 examples\n",
        "list(zip(top_class[:10,:], top_p[:10,:]))\n"
      ]
    },
    {
      "cell_type": "markdown",
      "source": [
        "## Model Training"
      ],
      "metadata": {
        "id": "c-NABrYLCmV7"
      }
    },
    {
      "cell_type": "markdown",
      "metadata": {
        "id": "8IB5BX8xfFxT"
      },
      "source": [
        "Now we can check if the predicted classes match the labels. This is simple to do by equating `top_class` and `labels`, but we have to be careful of the shapes. Here `top_class` is a 2D tensor with shape `(64, 1)` while `labels` is 1D with shape `(64)`. To get the equality to work out the way we want, `top_class` and `labels` must have the same shape.\n",
        "\n",
        "If we do\n",
        "\n",
        "```python\n",
        "equals = top_class == labels\n",
        "```\n",
        "\n",
        "`equals` will have shape `(64, 64)`, try it yourself. What it's doing is comparing the one element in each row of `top_class` with each element in `labels` which returns 64 True/False boolean values for each row."
      ]
    },
    {
      "cell_type": "code",
      "execution_count": null,
      "metadata": {
        "id": "YBGCP2VSfFxV"
      },
      "outputs": [],
      "source": [
        "equals = top_class == labels.view(*top_class.shape)"
      ]
    },
    {
      "cell_type": "markdown",
      "metadata": {
        "id": "KklXfa8jfFxX"
      },
      "source": [
        "Now we need to calculate the percentage of correct predictions. `equals` has binary values, either 0 or 1. This means that if we just sum up all the values and divide by the number of values, we get the percentage of correct predictions. This is the same operation as taking the mean, so we can get the accuracy with a call to `torch.mean`. If only it was that simple. If you try `torch.mean(equals)`, you'll get an error\n",
        "\n",
        "```\n",
        "RuntimeError: mean is not implemented for type torch.ByteTensor\n",
        "```\n",
        "\n",
        "This happens because `equals` has type `torch.ByteTensor` but `torch.mean` isn't implemented for tensors with that type. So we'll need to convert `equals` to a float tensor. Note that when we take `torch.mean` it returns a scalar tensor, to get the actual value as a float we'll need to do `accuracy.item()`."
      ]
    },
    {
      "cell_type": "code",
      "execution_count": null,
      "metadata": {
        "id": "J4q221uefFxY",
        "outputId": "fe6795e8-d63c-4f10-9277-136346910c6e"
      },
      "outputs": [
        {
          "name": "stdout",
          "output_type": "stream",
          "text": [
            "Accuracy: 7.8125%\n"
          ]
        }
      ],
      "source": [
        "accuracy = torch.mean(equals.type(torch.FloatTensor))\n",
        "print(f'Accuracy: {accuracy.item()*100}%')"
      ]
    },
    {
      "cell_type": "markdown",
      "metadata": {
        "id": "Jldl9tiLfFxY"
      },
      "source": [
        "The network is untrained so it's making random guesses and we should see an accuracy around 10%. Now let's train our network and include our validation pass so we can measure how well the network is performing on the test set. Since we're not updating our parameters in the validation pass, we can speed up our code by turning off gradients using `torch.no_grad()`:\n",
        "\n",
        "```python\n",
        "# turn off gradients\n",
        "with torch.no_grad():\n",
        "    # validation pass here\n",
        "    for images, labels in testloader:\n",
        "        ...\n",
        "```\n",
        "\n",
        ">**Exercise:** Implement the validation loop below and print out the total accuracy after the loop. You can largely copy and paste the code from above, but I suggest typing it in because writing it out yourself is essential for building the skill. In general you'll always learn more by typing it rather than copy-pasting. You should be able to get an accuracy above 80%."
      ]
    },
    {
      "cell_type": "code",
      "source": [
        "def train_step(model, train_loader, critetion, optimizer):\n",
        "\n",
        "    train_correct = epoch_train_loss = 0\n",
        "    for images, labels in trainloader:\n",
        "            \n",
        "            optimizer.zero_grad()\n",
        "            \n",
        "            log_probas = model(images)\n",
        "            loss = criterion(log_probas, labels)\n",
        "            loss.backward()\n",
        "            optimizer.step()\n",
        "\n",
        "            _, top_class = log_probas.topk(1, dim = 1)\n",
        "            train_correct += (labels.unsqueeze(1) == top_class).sum().item()\n",
        "            epoch_train_loss += loss.item()\n",
        "\n",
        "    n_samples = len(train_loader.dataset)\n",
        "\n",
        "    return epoch_train_loss / n_samples, train_correct / n_samples\n",
        "\n",
        "def val_step(model, val_loader, critetion):\n",
        "\n",
        "    val_correct = epoch_val_loss = 0\n",
        "    with torch.inference_mode():\n",
        "            for images, labels in val_loader:\n",
        "                log_probas = model(images)\n",
        "                _, top_class = log_probas.topk(1, dim = 1)\n",
        "                val_correct += (labels.unsqueeze(1) == top_class).sum().item()\n",
        "                epoch_val_loss += criterion(log_probas, labels).item()\n",
        "    \n",
        "    n_samples = len(val_loader.dataset)\n",
        "\n",
        "    return epoch_val_loss / n_samples, val_correct / n_samples\n",
        "\n",
        "def fit(model, train_loader, val_loader, epochs, criterion, optimizer, verbose = 1):\n",
        "    history = {\n",
        "        'train_loss': [],\n",
        "        'val_loss': [],\n",
        "        'train_acc': [],\n",
        "        'val_acc': []\n",
        "        }\n",
        "\n",
        "    for e in tqdm(range(epochs)):\n",
        "        train_loss, train_acc = train_step(model, train_loader, criterion, optimizer)\n",
        "        val_loss, val_acc = val_step(model, val_loader, criterion)\n",
        "\n",
        "        history['train_loss'].append(train_loss)\n",
        "        history['val_loss'].append(val_loss)\n",
        "\n",
        "        history['train_acc'].append(train_acc)\n",
        "        history['val_acc'].append(val_acc)\n",
        "\n",
        "        if verbose:\n",
        "            print(f\"\"\"\n",
        "            Epoch #{e}\n",
        "            Train_loss = {train_loss}, train_acc = {train_acc}\n",
        "            Val_loss = {val_loss}, val_acc = {val_acc}\n",
        "            {'='*54}\n",
        "            \"\"\")\n",
        "\n",
        "    return history"
      ],
      "metadata": {
        "id": "x4LcfDarCrqO"
      },
      "execution_count": 130,
      "outputs": []
    },
    {
      "cell_type": "code",
      "execution_count": 131,
      "metadata": {
        "id": "R3XS_ezPfFxZ",
        "outputId": "cfa1e80e-d7d5-4f1e-c153-588e66ddbc4b",
        "colab": {
          "base_uri": "https://localhost:8080/"
        }
      },
      "outputs": [
        {
          "output_type": "stream",
          "name": "stderr",
          "text": [
            " 20%|██        | 1/5 [00:16<01:05, 16.29s/it]"
          ]
        },
        {
          "output_type": "stream",
          "name": "stdout",
          "text": [
            "\n",
            "            Epoch #0\n",
            "            Train_loss = 0.028851829638083776, train_acc = 0.5399166666666667\n",
            "            Val_loss = 0.024269316458702086, val_acc = 0.6137\n",
            "            ======================================================\n",
            "            \n"
          ]
        },
        {
          "output_type": "stream",
          "name": "stderr",
          "text": [
            "\r 40%|████      | 2/5 [00:32<00:48, 16.07s/it]"
          ]
        },
        {
          "output_type": "stream",
          "name": "stdout",
          "text": [
            "\n",
            "            Epoch #1\n",
            "            Train_loss = 0.021662802984317144, train_acc = 0.6299166666666667\n",
            "            Val_loss = 0.02000973062515259, val_acc = 0.6417\n",
            "            ======================================================\n",
            "            \n"
          ]
        },
        {
          "output_type": "stream",
          "name": "stderr",
          "text": [
            "\r 60%|██████    | 3/5 [00:47<00:31, 15.94s/it]"
          ]
        },
        {
          "output_type": "stream",
          "name": "stdout",
          "text": [
            "\n",
            "            Epoch #2\n",
            "            Train_loss = 0.018647383232911426, train_acc = 0.6501\n",
            "            Val_loss = 0.01791134507060051, val_acc = 0.6555\n",
            "            ======================================================\n",
            "            \n"
          ]
        },
        {
          "output_type": "stream",
          "name": "stderr",
          "text": [
            "\r 80%|████████  | 4/5 [01:06<00:16, 17.00s/it]"
          ]
        },
        {
          "output_type": "stream",
          "name": "stdout",
          "text": [
            "\n",
            "            Epoch #3\n",
            "            Train_loss = 0.01702217762072881, train_acc = 0.6641\n",
            "            Val_loss = 0.016676124227046965, val_acc = 0.6671\n",
            "            ======================================================\n",
            "            \n"
          ]
        },
        {
          "output_type": "stream",
          "name": "stderr",
          "text": [
            "100%|██████████| 5/5 [01:22<00:00, 16.49s/it]"
          ]
        },
        {
          "output_type": "stream",
          "name": "stdout",
          "text": [
            "\n",
            "            Epoch #4\n",
            "            Train_loss = 0.016005932442347208, train_acc = 0.6744666666666667\n",
            "            Val_loss = 0.015875923961400987, val_acc = 0.6737\n",
            "            ======================================================\n",
            "            \n"
          ]
        },
        {
          "output_type": "stream",
          "name": "stderr",
          "text": [
            "\n"
          ]
        }
      ],
      "source": [
        "model = Classifier()\n",
        "criterion = nn.NLLLoss()\n",
        "optimizer = optim.Adam(model.parameters(), lr=0.003)\n",
        "\n",
        "epochs = 5\n",
        "history = fit(model, trainloader, testloader, epochs, criterion, optimizer)\n",
        "# steps = 0\n",
        "\n",
        "# train_losses, val_losses = [], []\n",
        "# for e in range(epochs):\n",
        "#     epoch_train_loss = epoch_val_loss = 0\n",
        "#     train_correct = val_correct = 0\n",
        "#     for images, labels in trainloader:\n",
        "        \n",
        "#         optimizer.zero_grad()\n",
        "        \n",
        "#         log_probas = model(images)\n",
        "#         loss = criterion(log_probas, labels)\n",
        "#         loss.backward()\n",
        "#         optimizer.step()\n",
        "\n",
        "#         _, top_class = log_probas.topk(1, dim = 1)\n",
        "#         train_correct += (labels.unsqueeze(1) == top_class).sum().item()\n",
        "#         epoch_train_loss += loss.item()\n",
        "        \n",
        "#     else:\n",
        "        \n",
        "#         ## TODO: Implement the validation pass and print out the validation accuracy\n",
        "#         with torch.inference_mode():\n",
        "#             for images, labels in testloader:\n",
        "#                 log_probas = model(images)\n",
        "#                 _, top_class = log_probas.topk(1, dim = 1)\n",
        "#                 val_correct += (labels.unsqueeze(1) == top_class).sum().item()\n",
        "#                 epoch_val_loss += criterion(log_probas, labels).item()\n",
        "        \n",
        "#         train_losses.append(train_losses)\n",
        "#         val_losses.append(epoch_val_loss)\n",
        "#         print(f\"\"\"\n",
        "#         Epoch #{e}:\n",
        "#         TrainLoss = {epoch_train_loss / len(trainloader.dataset)}\n",
        "#         TestLoss = {epoch_val_loss / len(testloader.dataset)}\n",
        "        \n",
        "#         TrainAcc = {train_correct / len(trainloader.dataset)}\n",
        "#         ValAcc = {val_correct / len(testloader.dataset)}\n",
        "#         \"\"\")\n",
        "#         #print(f'Accuracy: {accuracy.item()*100}%')"
      ]
    },
    {
      "cell_type": "code",
      "source": [
        "import pandas as pd\n",
        "\n",
        "history_df = pd.DataFrame(history)\n",
        "history_df.plot(y = ['train_loss', 'val_loss'])"
      ],
      "metadata": {
        "id": "KFY00ZBdHmQq",
        "outputId": "26077d26-6f0a-43d7-996b-10b75e7a0326",
        "colab": {
          "base_uri": "https://localhost:8080/",
          "height": 282
        }
      },
      "execution_count": 138,
      "outputs": [
        {
          "output_type": "execute_result",
          "data": {
            "text/plain": [
              "<matplotlib.axes._subplots.AxesSubplot at 0x7fc74a413450>"
            ]
          },
          "metadata": {},
          "execution_count": 138
        },
        {
          "output_type": "display_data",
          "data": {
            "text/plain": [
              "<Figure size 432x288 with 1 Axes>"
            ],
            "image/png": "[encoded data removed]"
          },
          "metadata": {
            "needs_background": "light"
          }
        }
      ]
    },
    {
      "cell_type": "code",
      "source": [
        "history_df.plot(y = ['train_acc', 'val_acc'])"
      ],
      "metadata": {
        "id": "9VxB7XN5L13E",
        "outputId": "2dc9a057-350b-4a31-b4e1-a423f0887d7a",
        "colab": {
          "base_uri": "https://localhost:8080/",
          "height": 285
        }
      },
      "execution_count": 139,
      "outputs": [
        {
          "output_type": "execute_result",
          "data": {
            "text/plain": [
              "<matplotlib.axes._subplots.AxesSubplot at 0x7fc74a482a50>"
            ]
          },
          "metadata": {},
          "execution_count": 139
        },
        {
          "output_type": "display_data",
          "data": {
            "text/plain": [
              "<Figure size 432x288 with 1 Axes>"
            ],
            "image/png": "[encoded data removed]"
          },
          "metadata": {
            "needs_background": "light"
          }
        }
      ]
    },
    {
      "cell_type": "markdown",
      "metadata": {
        "id": "VF4DYKVlfFxa"
      },
      "source": [
        "## Overfitting\n",
        "\n",
        "If we look at the training and validation losses as we train the network, we can see a phenomenon known as overfitting.\n",
        "\n",
        "<img src='https://github.com/VlZaigraev/deep-learning-v2-pytorch/blob/master/intro-to-pytorch/assets/overfitting.png?raw=1' width=450px>\n",
        "\n",
        "The network learns the training set better and better, resulting in lower training losses. However, it starts having problems generalizing to data outside the training set leading to the validation loss increasing. The ultimate goal of any deep learning model is to make predictions on new data, so we should strive to get the lowest validation loss possible. One option is to use the version of the model with the lowest validation loss, here the one around 8-10 training epochs. This strategy is called *early-stopping*. In practice, you'd save the model frequently as you're training then later choose the model with the lowest validation loss.\n",
        "\n",
        "The most common method to reduce overfitting (outside of early-stopping) is *dropout*, where we randomly drop input units. This forces the network to share information between weights, increasing it's ability to generalize to new data. Adding dropout in PyTorch is straightforward using the [`nn.Dropout`](https://pytorch.org/docs/stable/nn.html#torch.nn.Dropout) module.\n",
        "\n",
        "```python\n",
        "class Classifier(nn.Module):\n",
        "    def __init__(self):\n",
        "        super().__init__()\n",
        "        self.fc1 = nn.Linear(784, 256)\n",
        "        self.fc2 = nn.Linear(256, 128)\n",
        "        self.fc3 = nn.Linear(128, 64)\n",
        "        self.fc4 = nn.Linear(64, 10)\n",
        "        \n",
        "        # Dropout module with 0.2 drop probability\n",
        "        self.dropout = nn.Dropout(p=0.2)\n",
        "        \n",
        "    def forward(self, x):\n",
        "        # make sure input tensor is flattened\n",
        "        x = x.view(x.shape[0], -1)\n",
        "        \n",
        "        # Now with dropout\n",
        "        x = self.dropout(F.relu(self.fc1(x)))\n",
        "        x = self.dropout(F.relu(self.fc2(x)))\n",
        "        x = self.dropout(F.relu(self.fc3(x)))\n",
        "        \n",
        "        # output so no dropout here\n",
        "        x = F.log_softmax(self.fc4(x), dim=1)\n",
        "        \n",
        "        return x\n",
        "```\n",
        "\n",
        "During training we want to use dropout to prevent overfitting, but during inference we want to use the entire network. So, we need to turn off dropout during validation, testing, and whenever we're using the network to make predictions. To do this, you use `model.eval()`. This sets the model to evaluation mode where the dropout probability is 0. You can turn dropout back on by setting the model to train mode with `model.train()`. In general, the pattern for the validation loop will look like this, where you turn off gradients, set the model to evaluation mode, calculate the validation loss and metric, then set the model back to train mode.\n",
        "\n",
        "```python\n",
        "# turn off gradients\n",
        "with torch.no_grad():\n",
        "    \n",
        "    # set model to evaluation mode\n",
        "    model.eval()\n",
        "    \n",
        "    # validation pass here\n",
        "    for images, labels in testloader:\n",
        "        ...\n",
        "\n",
        "# set model back to train mode\n",
        "model.train()\n",
        "```"
      ]
    },
    {
      "cell_type": "markdown",
      "metadata": {
        "id": "nSpvXqrKfFxa"
      },
      "source": [
        "> **Exercise:** Add dropout to your model and train it on Fashion-MNIST again. See if you can get a lower validation loss or higher accuracy."
      ]
    },
    {
      "cell_type": "code",
      "execution_count": null,
      "metadata": {
        "id": "KiBFlQswfFxa"
      },
      "outputs": [],
      "source": [
        "## TODO: Define your model with dropout added"
      ]
    },
    {
      "cell_type": "code",
      "execution_count": null,
      "metadata": {
        "id": "eYLB4rAxfFxb"
      },
      "outputs": [],
      "source": [
        "## TODO: Train your model with dropout, and monitor the training progress with the validation loss and accuracy"
      ]
    },
    {
      "cell_type": "markdown",
      "metadata": {
        "id": "1BVgdLaBfFxc"
      },
      "source": [
        "## Inference\n",
        "\n",
        "Now that the model is trained, we can use it for inference. We've done this before, but now we need to remember to set the model in inference mode with `model.eval()`. You'll also want to turn off autograd with the `torch.no_grad()` context."
      ]
    },
    {
      "cell_type": "code",
      "execution_count": null,
      "metadata": {
        "id": "tESiugtBfFxc",
        "outputId": "64db026f-4b00-40c8-c502-ae7c0f9638a5"
      },
      "outputs": [
        {
          "data": {
            "image/png": "[encoded data removed]",
            "text/plain": [
              "<Figure size 432x648 with 2 Axes>"
            ]
          },
          "metadata": {
            "image/png": {
              "height": 206,
              "width": 423
            },
            "needs_background": "light"
          },
          "output_type": "display_data"
        }
      ],
      "source": [
        "# Import helper module (should be in the repo)\n",
        "import helper\n",
        "\n",
        "# Test out your network!\n",
        "\n",
        "model.eval()\n",
        "\n",
        "dataiter = iter(testloader)\n",
        "images, labels = dataiter.next()\n",
        "img = images[0]\n",
        "# Convert 2D image to 1D vector\n",
        "img = img.view(1, 784)\n",
        "\n",
        "# Calculate the class probabilities (softmax) for img\n",
        "with torch.no_grad():\n",
        "    output = model.forward(img)\n",
        "\n",
        "ps = torch.exp(output)\n",
        "\n",
        "# Plot the image and probabilities\n",
        "helper.view_classify(img.view(1, 28, 28), ps, version='Fashion')"
      ]
    },
    {
      "cell_type": "markdown",
      "metadata": {
        "id": "IRmEFmzTfFxd"
      },
      "source": [
        "## Next Up!\n",
        "\n",
        "In the next part, I'll show you how to save your trained models. In general, you won't want to train a model everytime you need it. Instead, you'll train once, save it, then load the model when you want to train more or use if for inference."
      ]
    }
  ],
  "metadata": {
    "kernelspec": {
      "display_name": "Python 3",
      "language": "python",
      "name": "python3"
    },
    "language_info": {
      "codemirror_mode": {
        "name": "ipython",
        "version": 3
      },
      "file_extension": ".py",
      "mimetype": "text/x-python",
      "name": "python",
      "nbconvert_exporter": "python",
      "pygments_lexer": "ipython3",
      "version": "3.6.6"
    },
    "colab": {
      "name": "Part 5 - Inference and Validation (Exercises).ipynb",
      "provenance": []
    }
  },
  "nbformat": 4,
  "nbformat_minor": 0
}