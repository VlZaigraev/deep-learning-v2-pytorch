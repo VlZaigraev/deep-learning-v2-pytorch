{
  "cells": [
    {
      "cell_type": "markdown",
      "metadata": {
        "id": "view-in-github",
        "colab_type": "text"
      },
      "source": [
        "<a href=\"https://colab.research.google.com/github/VlZaigraev/deep-learning-v2-pytorch/blob/master/intro-to-pytorch/Part%202%20-%20Neural%20Networks%20in%20PyTorch%20(Exercises).ipynb\" target=\"_parent\"><img src=\"https://colab.research.google.com/assets/colab-badge.svg\" alt=\"Open In Colab\"/></a>"
      ]
    },
    {
      "cell_type": "markdown",
      "metadata": {
        "id": "citpVZGIvxo5"
      },
      "source": [
        "# Neural networks with PyTorch\n",
        "\n",
        "Deep learning networks tend to be massive with dozens or hundreds of layers, that's where the term \"deep\" comes from. You can build one of these deep networks using only weight matrices as we did in the previous notebook, but in general it's very cumbersome and difficult to implement. PyTorch has a nice module `nn` that provides a nice way to efficiently build large neural networks."
      ]
    },
    {
      "cell_type": "code",
      "execution_count": 3,
      "metadata": {
        "collapsed": true,
        "id": "Fk2u2Xd1vxo8"
      },
      "outputs": [],
      "source": [
        "# Import necessary packages\n",
        "\n",
        "%matplotlib inline\n",
        "%config InlineBackend.figure_format = 'retina'\n",
        "\n",
        "import numpy as np\n",
        "import torch\n",
        "\n",
        "import helper\n",
        "\n",
        "import matplotlib.pyplot as plt\n",
        "\n",
        "from torchvision import datasets, transforms\n",
        "from six.moves import urllib"
      ]
    },
    {
      "cell_type": "markdown",
      "source": [
        "## Data"
      ],
      "metadata": {
        "id": "7wYdx34ZcqLa"
      }
    },
    {
      "cell_type": "markdown",
      "metadata": {
        "id": "_bBx_wOfvxo_"
      },
      "source": [
        "\n",
        "Now we're going to build a larger network that can solve a (formerly) difficult problem, identifying text in an image. Here we'll use the MNIST dataset which consists of greyscale handwritten digits. Each image is 28x28 pixels, you can see a sample below\n",
        "\n",
        "<img src='https://github.com/VlZaigraev/deep-learning-v2-pytorch/blob/master/intro-to-pytorch/assets/mnist.png?raw=1'>\n",
        "\n",
        "Our goal is to build a neural network that can take one of these images and predict the digit in the image.\n",
        "\n",
        "First up, we need to get our dataset. This is provided through the `torchvision` package. The code below will download the MNIST dataset, then create training and test datasets for us. Don't worry too much about the details here, you'll learn more about this later."
      ]
    },
    {
      "cell_type": "code",
      "execution_count": 4,
      "metadata": {
        "id": "1qWDNoLjvxpA"
      },
      "outputs": [],
      "source": [
        "# The MNIST datasets are hosted on yann.lecun.com that has moved under CloudFlare protection\n",
        "# Run this script to enable the datasets download\n",
        "# Reference: https://github.com/pytorch/vision/issues/1938\n",
        "\n",
        "\n",
        "opener = urllib.request.build_opener()\n",
        "opener.addheaders = [('User-agent', 'Mozilla/5.0')]\n",
        "urllib.request.install_opener(opener)"
      ]
    },
    {
      "cell_type": "code",
      "execution_count": 6,
      "metadata": {
        "collapsed": true,
        "id": "lxVHBLqPvxpB",
        "outputId": "e2c4bc26-7aa4-42ff-98a0-a021924f1b03",
        "colab": {
          "base_uri": "https://localhost:8080/"
        }
      },
      "outputs": [
        {
          "output_type": "execute_result",
          "data": {
            "text/plain": [
              "Dataset MNIST\n",
              "    Number of datapoints: 60000\n",
              "    Root location: /root/.pytorch/MNIST_data/\n",
              "    Split: Train\n",
              "    StandardTransform\n",
              "Transform: Compose(\n",
              "               ToTensor()\n",
              "               Normalize(mean=(0.5,), std=(0.5,))\n",
              "           )"
            ]
          },
          "metadata": {},
          "execution_count": 6
        }
      ],
      "source": [
        "# Define a transform to normalize the data\n",
        "transform = transforms.Compose([transforms.ToTensor(),\n",
        "                                transforms.Normalize((0.5,), (0.5,))])\n",
        "\n",
        "# Download and load the training data\n",
        "trainset = datasets.MNIST('~/.pytorch/MNIST_data/', download=True, train=True, transform=transform)\n",
        "trainloader = torch.utils.data.DataLoader(trainset, batch_size=64, shuffle=True)\n",
        "trainset"
      ]
    },
    {
      "cell_type": "markdown",
      "metadata": {
        "id": "pi1gpITbvxpB"
      },
      "source": [
        "We have the training data loaded into `trainloader` and we make that an iterator with `iter(trainloader)`. Later, we'll use this to loop through the dataset for training, like\n",
        "\n",
        "```python\n",
        "for image, label in trainloader:\n",
        "    ## do things with images and labels\n",
        "```\n",
        "\n",
        "You'll notice I created the `trainloader` with a batch size of 64, and `shuffle=True`. The batch size is the number of images we get in one iteration from the data loader and pass through our network, often called a *batch*. And `shuffle=True` tells it to shuffle the dataset every time we start going through the data loader again. But here I'm just grabbing the first batch so we can check out the data. We can see below that `images` is just a tensor with size `(64, 1, 28, 28)`. So, 64 images per batch, 1 color channel, and 28x28 images."
      ]
    },
    {
      "cell_type": "code",
      "execution_count": 7,
      "metadata": {
        "collapsed": true,
        "id": "KI7uGV9SvxpD",
        "outputId": "7d32a92b-84a2-4232-af96-bc40d49ecec2",
        "colab": {
          "base_uri": "https://localhost:8080/"
        }
      },
      "outputs": [
        {
          "output_type": "stream",
          "name": "stdout",
          "text": [
            "<class 'torch.Tensor'>\n",
            "torch.Size([64, 1, 28, 28])\n",
            "torch.Size([64])\n"
          ]
        }
      ],
      "source": [
        "dataiter = iter(trainloader)\n",
        "images, labels = dataiter.next()\n",
        "print(type(images))\n",
        "print(images.shape)\n",
        "print(labels.shape)"
      ]
    },
    {
      "cell_type": "code",
      "source": [
        "limit = 1\n",
        "for i, (X, y) in enumerate(trainloader):\n",
        "    if i >= limit: break\n",
        "    print(i, X.permute(0,2,3,1).shape, y.shape)"
      ],
      "metadata": {
        "id": "iRWTzgV22c8i",
        "outputId": "d102b454-d0b0-499b-b5a5-4bd7494830db",
        "colab": {
          "base_uri": "https://localhost:8080/"
        }
      },
      "execution_count": 30,
      "outputs": [
        {
          "output_type": "stream",
          "name": "stdout",
          "text": [
            "0 torch.Size([64, 28, 28, 1]) torch.Size([64])\n"
          ]
        }
      ]
    },
    {
      "cell_type": "markdown",
      "metadata": {
        "id": "SDqkT1BlvxpE"
      },
      "source": [
        "This is what one of the images looks like. "
      ]
    },
    {
      "cell_type": "code",
      "execution_count": 35,
      "metadata": {
        "collapsed": true,
        "id": "rICEasRmvxpG",
        "outputId": "d313fd04-044b-45a0-ffc8-54900ace172e",
        "colab": {
          "base_uri": "https://localhost:8080/",
          "height": 265
        }
      },
      "outputs": [
        {
          "output_type": "display_data",
          "data": {
            "text/plain": [
              "<Figure size 432x288 with 1 Axes>"
            ],
            "image/png": "[encoded data removed]"
          },
          "metadata": {
            "image/png": {
              "width": 251,
              "height": 248
            },
            "needs_background": "light"
          }
        }
      ],
      "source": [
        "plt.imshow(images[1].squeeze(), cmap='Greys_r');"
      ]
    },
    {
      "cell_type": "markdown",
      "source": [
        "## NN from scratch"
      ],
      "metadata": {
        "id": "nWQQxao5c52h"
      }
    },
    {
      "cell_type": "markdown",
      "metadata": {
        "id": "YIPJ24_9vxpH"
      },
      "source": [
        "First, let's try to build a simple network for this dataset using weight matrices and matrix multiplications. Then, we'll see how to do it using PyTorch's `nn` module which provides a much more convenient and powerful method for defining network architectures.\n",
        "\n",
        "The networks you've seen so far are called *fully-connected* or *dense* networks. Each unit in one layer is connected to each unit in the next layer. In fully-connected networks, the input to each layer must be a one-dimensional vector (which can be stacked into a 2D tensor as a batch of multiple examples). However, our images are 28x28 2D tensors, so we need to convert them into 1D vectors. Thinking about sizes, we need to convert the batch of images with shape `(64, 1, 28, 28)` to a have a shape of `(64, 784)`, 784 is 28 times 28. This is typically called *flattening*, we flattened the 2D images into 1D vectors.\n",
        "\n",
        "Previously you built a network with one output unit. Here we need 10 output units, one for each digit. We want our network to predict the digit shown in an image, so what we'll do is calculate probabilities that the image is of any one digit or class. This ends up being a discrete probability distribution over the classes (digits) that tells us the most likely class for the image. That means we need 10 output units for the 10 classes (digits). We'll see how to convert the network output into a probability distribution next.\n",
        "\n",
        "> **Exercise:** Flatten the batch of images `images`. Then build a multi-layer network with 784 input units, 256 hidden units, and 10 output units using random tensors for the weights and biases. For now, use a sigmoid activation for the hidden layer. Leave the output layer without an activation, we'll add one that gives us a probability distribution next."
      ]
    },
    {
      "cell_type": "code",
      "source": [
        "num_classes = 10\n",
        "a, b = -1, 1\n",
        "v = torch.rand((num_classes)) * (b - a) + a\n",
        "class_names = [f'class_{i}' for i in range(num_classes)]\n",
        "class_names = np.array(class_names)\n",
        "v"
      ],
      "metadata": {
        "id": "yEKLdlvE6s8Y",
        "outputId": "c426fb9c-044d-4b4c-a27f-33e2a449a11e",
        "colab": {
          "base_uri": "https://localhost:8080/"
        }
      },
      "execution_count": 116,
      "outputs": [
        {
          "output_type": "execute_result",
          "data": {
            "text/plain": [
              "tensor([-0.3104,  0.7471, -0.7409, -0.1269,  0.1598, -0.5082,  0.7973, -0.3340,\n",
              "        -0.8659,  0.5686])"
            ]
          },
          "metadata": {},
          "execution_count": 116
        }
      ]
    },
    {
      "cell_type": "code",
      "source": [
        "\n",
        "def visualize_softmax(v, class_names, temperature = 1):\n",
        "    softmax = torch.nn.Softmax()\n",
        "    softmax_applied = softmax(v / temperature)\n",
        "    plt.bar(class_names, softmax_applied)\n",
        "    plt.xticks(class_names, rotation = 45)\n",
        "    plt.yticks(np.arange(0,1,step=0.1))\n",
        "\n",
        "visualize_softmax(v, class_names, 0.01)"
      ],
      "metadata": {
        "id": "N4Qkk8ao4iar",
        "outputId": "509cfba4-2ff5-4381-b927-8f5e04ac7493",
        "colab": {
          "base_uri": "https://localhost:8080/",
          "height": 323
        }
      },
      "execution_count": 117,
      "outputs": [
        {
          "output_type": "stream",
          "name": "stderr",
          "text": [
            "/usr/local/lib/python3.7/dist-packages/ipykernel_launcher.py:4: UserWarning: Implicit dimension choice for softmax has been deprecated. Change the call to include dim=X as an argument.\n",
            "  after removing the cwd from sys.path.\n"
          ]
        },
        {
          "output_type": "display_data",
          "data": {
            "text/plain": [
              "<Figure size 432x288 with 1 Axes>"
            ],
            "image/png": "[encoded data removed]"
          },
          "metadata": {
            "image/png": {
              "width": 372,
              "height": 271
            },
            "needs_background": "light"
          }
        }
      ]
    },
    {
      "cell_type": "code",
      "source": [
        "features_in = 784\n",
        "hidden_dim = 256\n",
        "features_out = 10\n",
        "\n",
        "class myNetwork():\n",
        "\n",
        "    def __init__(self, features_in, hidden_dim, features_out):\n",
        "\n",
        "        self.activations = {\n",
        "            'sigmoid': lambda x: (1 + np.exp(-x))**-1 ,\n",
        "            'relu': lambda x: np.maximum(0, x),\n",
        "            'softmax': lambda x: np.exp(x) / np.exp(x).sum()\n",
        "            }\n",
        "\n",
        "        self.W1 = np.random.randn(features_in, hidden_dim)\n",
        "        self.b1 = np.random.randn(hidden_dim)\n",
        "\n",
        "        self.W2 = np.random.randn(hidden_dim, features_out)\n",
        "        self.b2 = np.random.randn(features_out)\n",
        "\n",
        "    def activation(self, x, act_type):\n",
        "        return self.activations[act_type](x)\n",
        "    \n",
        "    def __call__(self, x):\n",
        "        hidden_1_out = self.activation(np.dot(x, self.W1) + self.b1,\n",
        "                                       'relu')\n",
        "        hidden_2_out = self.activation(np.dot(hidden_1_out, self.W2) + self.b2,\n",
        "                                       'relu')\n",
        "        return(hidden_2_out)\n",
        "\n",
        "myNet = myNetwork(features_in, hidden_dim, features_out)\n",
        "out = torch.tensor(myNet(np.random.rand(64, 28*28)))\n",
        "#out =  # output of your network, should have shape (64,10)"
      ],
      "metadata": {
        "id": "oco1h8RmFqKI"
      },
      "execution_count": 163,
      "outputs": []
    },
    {
      "cell_type": "markdown",
      "metadata": {
        "id": "jPGGob8jvxpJ"
      },
      "source": [
        "Now we have 10 outputs for our network. We want to pass in an image to our network and get out a probability distribution over the classes that tells us the likely class(es) the image belongs to. Something that looks like this:\n",
        "<img src='https://github.com/VlZaigraev/deep-learning-v2-pytorch/blob/master/intro-to-pytorch/assets/image_distribution.png?raw=1' width=500px>\n",
        "\n",
        "Here we see that the probability for each class is roughly the same. This is representing an untrained network, it hasn't seen any data yet so it just returns a uniform distribution with equal probabilities for each class.\n",
        "\n",
        "To calculate this probability distribution, we often use the [**softmax** function](https://en.wikipedia.org/wiki/Softmax_function). Mathematically this looks like\n",
        "\n",
        "$$\n",
        "\\Large \\sigma(x_i) = \\cfrac{e^{x_i}}{\\sum_k^K{e^{x_k}}}\n",
        "$$\n",
        "\n",
        "What this does is squish each input $x_i$ between 0 and 1 and normalizes the values to give you a proper probability distribution where the probabilites sum up to one.\n",
        "\n",
        "> **Exercise:** Implement a function `softmax` that performs the softmax calculation and returns probability distributions for each example in the batch. Note that you'll need to pay attention to the shapes when doing this. If you have a tensor `a` with shape `(64, 10)` and a tensor `b` with shape `(64,)`, doing `a/b` will give you an error because PyTorch will try to do the division across the columns (called broadcasting) but you'll get a size mismatch. The way to think about this is for each of the 64 examples, you only want to divide by one value, the sum in the denominator. So you need `b` to have a shape of `(64, 1)`. This way PyTorch will divide the 10 values in each row of `a` by the one value in each row of `b`. Pay attention to how you take the sum as well. You'll need to define the `dim` keyword in `torch.sum`. Setting `dim=0` takes the sum across the rows while `dim=1` takes the sum across the columns."
      ]
    },
    {
      "cell_type": "code",
      "execution_count": 170,
      "metadata": {
        "collapsed": true,
        "id": "ALKsQ78kvxpK",
        "outputId": "1f7f0b6d-31e2-42e2-bae6-9982575c83ce",
        "colab": {
          "base_uri": "https://localhost:8080/"
        }
      },
      "outputs": [
        {
          "output_type": "stream",
          "name": "stdout",
          "text": [
            "torch.Size([64, 10])\n"
          ]
        },
        {
          "output_type": "execute_result",
          "data": {
            "text/plain": [
              "tensor([1.0000, 1.0000, 1.0000, 1.0000, 1.0000, 1.0000, 1.0000, 1.0000, 1.0000,\n",
              "        1.0000], dtype=torch.float64)"
            ]
          },
          "metadata": {},
          "execution_count": 170
        }
      ],
      "source": [
        "def softmax(x):\n",
        "    sm = torch.nn.Softmax(dim=0)\n",
        "    return sm(x)\n",
        "\n",
        "# Here, out should be the output of the network in the previous excercise with shape (64,10)\n",
        "probabilities = softmax(out)\n",
        "\n",
        "# Does it have the right shape? Should be (64, 10)\n",
        "print(probabilities.shape)\n",
        "# Does it sum to 1?\n",
        "probabilities.sum(dim=0)"
      ]
    },
    {
      "cell_type": "code",
      "source": [
        "random_images_batch = torch.randn(64,28,28,1)\n",
        "\n",
        "reshaped = random_images_batch.flatten(start_dim=1) # alternative for reshape(64,-1)\n",
        "reshaped.shape"
      ],
      "metadata": {
        "id": "Ww6v3JpDbiR8",
        "outputId": "abd62cc5-9ca1-4fd2-a655-5f226f9beb67",
        "colab": {
          "base_uri": "https://localhost:8080/"
        }
      },
      "execution_count": 174,
      "outputs": [
        {
          "output_type": "execute_result",
          "data": {
            "text/plain": [
              "torch.Size([64, 784])"
            ]
          },
          "metadata": {},
          "execution_count": 174
        }
      ]
    },
    {
      "cell_type": "markdown",
      "metadata": {
        "id": "4VETxnZSvxpL"
      },
      "source": [
        "## Building networks with PyTorch\n",
        "\n",
        "PyTorch provides a module `nn` that makes building networks much simpler. Here I'll show you how to build the same one as above with 784 inputs, 256 hidden units, 10 output units and a softmax output."
      ]
    },
    {
      "cell_type": "code",
      "execution_count": 175,
      "metadata": {
        "collapsed": true,
        "id": "i-saEenHvxpN"
      },
      "outputs": [],
      "source": [
        "from torch import nn"
      ]
    },
    {
      "cell_type": "code",
      "execution_count": 179,
      "metadata": {
        "collapsed": true,
        "id": "1szAmuqnvxpP"
      },
      "outputs": [],
      "source": [
        "class Network(nn.Module):\n",
        "    def __init__(self):\n",
        "        super().__init__()\n",
        "        \n",
        "        # Inputs to hidden layer linear transformation\n",
        "        self.hidden = nn.Linear(784, 256)\n",
        "        # Output layer, 10 units - one for each digit\n",
        "        self.output = nn.Linear(256, 10)\n",
        "        \n",
        "        # Define sigmoid activation and softmax output \n",
        "        self.sigmoid = nn.Sigmoid()\n",
        "        self.softmax = nn.Softmax(dim=1)\n",
        "        \n",
        "    def forward(self, x):\n",
        "        # Pass the input tensor through each of our operations\n",
        "        x = self.hidden(x)\n",
        "        x = self.sigmoid(x)\n",
        "        x = self.output(x)\n",
        "        x = self.softmax(x)\n",
        "        \n",
        "        return x"
      ]
    },
    {
      "cell_type": "markdown",
      "metadata": {
        "id": "9vWYCebWvxpR"
      },
      "source": [
        "Let's go through this bit by bit.\n",
        "\n",
        "```python\n",
        "class Network(nn.Module):\n",
        "```\n",
        "\n",
        "Here we're inheriting from `nn.Module`. Combined with `super().__init__()` this creates a class that tracks the architecture and provides a lot of useful methods and attributes. It is mandatory to inherit from `nn.Module` when you're creating a class for your network. The name of the class itself can be anything.\n",
        "\n",
        "```python\n",
        "self.hidden = nn.Linear(784, 256)\n",
        "```\n",
        "\n",
        "This line creates a module for a linear transformation, $x\\mathbf{W} + b$, with 784 inputs and 256 outputs and assigns it to `self.hidden`. The module automatically creates the weight and bias tensors which we'll use in the `forward` method. You can access the weight and bias tensors once the network (`net`) is created with `net.hidden.weight` and `net.hidden.bias`.\n",
        "\n",
        "```python\n",
        "self.output = nn.Linear(256, 10)\n",
        "```\n",
        "\n",
        "Similarly, this creates another linear transformation with 256 inputs and 10 outputs.\n",
        "\n",
        "```python\n",
        "self.sigmoid = nn.Sigmoid()\n",
        "self.softmax = nn.Softmax(dim=1)\n",
        "```\n",
        "\n",
        "Here I defined operations for the sigmoid activation and softmax output. Setting `dim=1` in `nn.Softmax(dim=1)` calculates softmax across the columns.\n",
        "\n",
        "```python\n",
        "def forward(self, x):\n",
        "```\n",
        "\n",
        "PyTorch networks created with `nn.Module` must have a `forward` method defined. It takes in a tensor `x` and passes it through the operations you defined in the `__init__` method.\n",
        "\n",
        "```python\n",
        "x = self.hidden(x)\n",
        "x = self.sigmoid(x)\n",
        "x = self.output(x)\n",
        "x = self.softmax(x)\n",
        "```\n",
        "\n",
        "Here the input tensor `x` is passed through each operation and reassigned to `x`. We can see that the input tensor goes through the hidden layer, then a sigmoid function, then the output layer, and finally the softmax function. It doesn't matter what you name the variables here, as long as the inputs and outputs of the operations match the network architecture you want to build. The order in which you define things in the `__init__` method doesn't matter, but you'll need to sequence the operations correctly in the `forward` method.\n",
        "\n",
        "Now we can create a `Network` object."
      ]
    },
    {
      "cell_type": "code",
      "execution_count": 180,
      "metadata": {
        "collapsed": true,
        "id": "tLbprqhMvxpT",
        "outputId": "a6349fc7-7ba9-431f-bc2b-18ae9efa7931",
        "colab": {
          "base_uri": "https://localhost:8080/"
        }
      },
      "outputs": [
        {
          "output_type": "execute_result",
          "data": {
            "text/plain": [
              "Network(\n",
              "  (hidden): Linear(in_features=784, out_features=256, bias=True)\n",
              "  (output): Linear(in_features=256, out_features=10, bias=True)\n",
              "  (sigmoid): Sigmoid()\n",
              "  (softmax): Softmax(dim=1)\n",
              ")"
            ]
          },
          "metadata": {},
          "execution_count": 180
        }
      ],
      "source": [
        "# Create the network and look at it's text representation\n",
        "model = Network()\n",
        "model"
      ]
    },
    {
      "cell_type": "markdown",
      "metadata": {
        "id": "GryYeuhfvxpU"
      },
      "source": [
        "You can define the network somewhat more concisely and clearly using the `torch.nn.functional` module. This is the most common way you'll see networks defined as many operations are simple element-wise functions. We normally import this module as `F`, `import torch.nn.functional as F`."
      ]
    },
    {
      "cell_type": "code",
      "execution_count": 182,
      "metadata": {
        "collapsed": true,
        "id": "vQdL6rvWvxpU",
        "outputId": "356e436d-27d3-4a44-8f93-02c868312137",
        "colab": {
          "base_uri": "https://localhost:8080/"
        }
      },
      "outputs": [
        {
          "output_type": "execute_result",
          "data": {
            "text/plain": [
              "BetterNetwork(\n",
              "  (hidden): Linear(in_features=784, out_features=256, bias=True)\n",
              "  (output): Linear(in_features=256, out_features=10, bias=True)\n",
              ")"
            ]
          },
          "metadata": {},
          "execution_count": 182
        }
      ],
      "source": [
        "import torch.nn.functional as F\n",
        "\n",
        "class BetterNetwork(nn.Module):\n",
        "    def __init__(self):\n",
        "        super().__init__()\n",
        "        # Inputs to hidden layer linear transformation\n",
        "        self.hidden = nn.Linear(784, 256)\n",
        "        # Output layer, 10 units - one for each digit\n",
        "        self.output = nn.Linear(256, 10)\n",
        "        \n",
        "    def forward(self, x):\n",
        "        # Hidden layer with sigmoid activation\n",
        "        x = F.sigmoid(self.hidden(x))\n",
        "        # Output layer with softmax activation\n",
        "        x = F.softmax(self.output(x), dim=1)\n",
        "        \n",
        "        return x\n",
        "\n",
        "better_network = BetterNetwork()\n",
        "better_network"
      ]
    },
    {
      "cell_type": "markdown",
      "metadata": {
        "id": "jFH_h0pavxpV"
      },
      "source": [
        "### Activation functions\n",
        "\n",
        "So far we've only been looking at the sigmoid activation function, but in general any function can be used as an activation function. The only requirement is that for a network to approximate a non-linear function, the activation functions must be non-linear. Here are a few more examples of common activation functions: Tanh (hyperbolic tangent), and ReLU (rectified linear unit).\n",
        "\n",
        "<img src=\"https://github.com/VlZaigraev/deep-learning-v2-pytorch/blob/master/intro-to-pytorch/assets/activation.png?raw=1\" width=700px>\n",
        "\n",
        "In practice, the ReLU function is used almost exclusively as the activation function for hidden layers."
      ]
    },
    {
      "cell_type": "markdown",
      "metadata": {
        "id": "QLfcbSj_vxpV"
      },
      "source": [
        "### Your Turn to Build a Network\n",
        "\n",
        "<img src=\"https://github.com/VlZaigraev/deep-learning-v2-pytorch/blob/master/intro-to-pytorch/assets/mlp_mnist.png?raw=1\" width=600px>\n",
        "\n",
        "> **Exercise:** Create a network with 784 input units, a hidden layer with 128 units and a ReLU activation, then a hidden layer with 64 units and a ReLU activation, and finally an output layer with a softmax activation as shown above. You can use a ReLU activation with the `nn.ReLU` module or `F.relu` function.\n",
        "\n",
        "It's good practice to name your layers by their type of network, for instance 'fc' to represent a fully-connected layer. As you code your solution, use `fc1`, `fc2`, and `fc3` as your layer names."
      ]
    },
    {
      "cell_type": "code",
      "execution_count": 202,
      "metadata": {
        "collapsed": true,
        "scrolled": true,
        "id": "zhWJF1VivxpV",
        "outputId": "0d0c16d6-b97f-4257-9c5a-fe94d088ae9c",
        "colab": {
          "base_uri": "https://localhost:8080/"
        }
      },
      "outputs": [
        {
          "output_type": "stream",
          "name": "stderr",
          "text": [
            "/usr/local/lib/python3.7/dist-packages/ipykernel_launcher.py:14: UserWarning: Implicit dimension choice for softmax has been deprecated. Change the call to include dim=X as an argument.\n",
            "  \n"
          ]
        },
        {
          "output_type": "execute_result",
          "data": {
            "text/plain": [
              "tensor([1.0000, 1.0000, 1.0000, 1.0000, 1.0000, 1.0000, 1.0000, 1.0000, 1.0000,\n",
              "        1.0000, 1.0000, 1.0000, 1.0000, 1.0000, 1.0000, 1.0000, 1.0000, 1.0000,\n",
              "        1.0000, 1.0000, 1.0000, 1.0000, 1.0000, 1.0000, 1.0000, 1.0000, 1.0000,\n",
              "        1.0000, 1.0000, 1.0000, 1.0000, 1.0000, 1.0000, 1.0000, 1.0000, 1.0000,\n",
              "        1.0000, 1.0000, 1.0000, 1.0000, 1.0000, 1.0000, 1.0000, 1.0000, 1.0000,\n",
              "        1.0000, 1.0000, 1.0000, 1.0000, 1.0000, 1.0000, 1.0000, 1.0000, 1.0000,\n",
              "        1.0000, 1.0000, 1.0000, 1.0000, 1.0000, 1.0000, 1.0000, 1.0000, 1.0000,\n",
              "        1.0000], grad_fn=<SumBackward1>)"
            ]
          },
          "metadata": {},
          "execution_count": 202
        }
      ],
      "source": [
        "## Your solution here\n",
        "\n",
        "class myMLP(nn.Module):\n",
        "\n",
        "    def __init__(self, input_dim, hidden_dims, output_dim, **kwargs):\n",
        "        super().__init__(**kwargs)\n",
        "        dims = [input_dim] + hidden_dims\n",
        "        self.n_hidden_layers = len(hidden_dims)\n",
        "        self.hiddens = [nn.Linear(dims[i], dims[i + 1]) for i, _ in enumerate(dims[:-1])]\n",
        "        self.out = nn.Linear(hidden_dims[-1], output_dim)\n",
        "    def forward(self, x):\n",
        "        for layer in self.hiddens:\n",
        "            x = F.relu(layer(x))\n",
        "        return F.softmax(x)\n",
        "\n",
        "model = myMLP(784, [128, 64], 10)\n",
        "features = torch.rand(64, 28*28)\n",
        "model(features).sum(dim=1)"
      ]
    },
    {
      "cell_type": "markdown",
      "metadata": {
        "id": "qhLIEqW7vxpW"
      },
      "source": [
        "### Initializing weights and biases\n",
        "\n",
        "The weights and such are automatically initialized for you, but it's possible to customize how they are initialized. The weights and biases are tensors attached to the layer you defined, you can get them with `model.fc1.weight` for instance."
      ]
    },
    {
      "cell_type": "code",
      "execution_count": 203,
      "metadata": {
        "collapsed": true,
        "id": "81d4PxiBvxpX",
        "outputId": "df48137a-1d39-403e-a7d2-19977127a5ec",
        "colab": {
          "base_uri": "https://localhost:8080/"
        }
      },
      "outputs": [
        {
          "output_type": "stream",
          "name": "stdout",
          "text": [
            "Parameter containing:\n",
            "tensor([[-0.0344,  0.0214, -0.0062,  ..., -0.0352, -0.0109,  0.0233],\n",
            "        [ 0.0320,  0.0118,  0.0348,  ...,  0.0285, -0.0265, -0.0285],\n",
            "        [ 0.0124,  0.0070,  0.0069,  ...,  0.0049,  0.0355,  0.0221],\n",
            "        ...,\n",
            "        [ 0.0180, -0.0277, -0.0348,  ..., -0.0142,  0.0029,  0.0138],\n",
            "        [ 0.0303, -0.0076, -0.0006,  ...,  0.0350, -0.0351, -0.0320],\n",
            "        [-0.0057, -0.0112,  0.0215,  ..., -0.0289, -0.0226,  0.0336]],\n",
            "       requires_grad=True)\n",
            "Parameter containing:\n",
            "tensor([ 0.0135,  0.0005,  0.0184,  0.0326,  0.0222,  0.0213, -0.0184,  0.0212,\n",
            "        -0.0232,  0.0204,  0.0240, -0.0257, -0.0015,  0.0246,  0.0329,  0.0199,\n",
            "         0.0072, -0.0004,  0.0054,  0.0310,  0.0307, -0.0085,  0.0342, -0.0052,\n",
            "         0.0305, -0.0328, -0.0274,  0.0224,  0.0301,  0.0023, -0.0205,  0.0140,\n",
            "         0.0257, -0.0248,  0.0259, -0.0069,  0.0176,  0.0231, -0.0277,  0.0075,\n",
            "         0.0215, -0.0243, -0.0172,  0.0173,  0.0209,  0.0159, -0.0086, -0.0272,\n",
            "         0.0277, -0.0224, -0.0283,  0.0086, -0.0333, -0.0041, -0.0032, -0.0135,\n",
            "         0.0002,  0.0342, -0.0277, -0.0174, -0.0011,  0.0138,  0.0243,  0.0143,\n",
            "         0.0010, -0.0145,  0.0276, -0.0027,  0.0288, -0.0080, -0.0267, -0.0040,\n",
            "         0.0313, -0.0024,  0.0267, -0.0185,  0.0013,  0.0132,  0.0247,  0.0162,\n",
            "         0.0146,  0.0316, -0.0169,  0.0229, -0.0263,  0.0258,  0.0302, -0.0016,\n",
            "         0.0102,  0.0164,  0.0055, -0.0299,  0.0007,  0.0294,  0.0308, -0.0132,\n",
            "         0.0038,  0.0338,  0.0282, -0.0242, -0.0285, -0.0126,  0.0238,  0.0278,\n",
            "        -0.0271, -0.0074, -0.0074,  0.0197,  0.0242, -0.0152, -0.0123, -0.0314,\n",
            "        -0.0316,  0.0079, -0.0137,  0.0253,  0.0251,  0.0031,  0.0256,  0.0355,\n",
            "         0.0082,  0.0097, -0.0154,  0.0158,  0.0197,  0.0237,  0.0287, -0.0335],\n",
            "       requires_grad=True)\n"
          ]
        }
      ],
      "source": [
        "print(model.hiddens[0].weight)\n",
        "print(model.hiddens[0].bias)"
      ]
    },
    {
      "cell_type": "markdown",
      "metadata": {
        "id": "p-jMzGl1vxpX"
      },
      "source": [
        "For custom initialization, we want to modify these tensors in place. These are actually autograd *Variables*, so we need to get back the actual tensors with `model.fc1.weight.data`. Once we have the tensors, we can fill them with zeros (for biases) or random normal values."
      ]
    },
    {
      "cell_type": "code",
      "execution_count": 233,
      "metadata": {
        "collapsed": true,
        "id": "Dlavnr4YvxpY",
        "outputId": "5f152fb0-c8e4-40d5-b0d2-6bbc4a6933dd",
        "colab": {
          "base_uri": "https://localhost:8080/"
        }
      },
      "outputs": [
        {
          "output_type": "stream",
          "name": "stdout",
          "text": [
            "[Parameter containing:\n",
            "tensor([0., 0., 0., 0., 0., 0., 0., 0., 0., 0., 0., 0., 0., 0., 0., 0., 0., 0., 0., 0., 0., 0., 0., 0.,\n",
            "        0., 0., 0., 0., 0., 0., 0., 0., 0., 0., 0., 0., 0., 0., 0., 0., 0., 0., 0., 0., 0., 0., 0., 0.,\n",
            "        0., 0., 0., 0., 0., 0., 0., 0., 0., 0., 0., 0., 0., 0., 0., 0., 0., 0., 0., 0., 0., 0., 0., 0.,\n",
            "        0., 0., 0., 0., 0., 0., 0., 0., 0., 0., 0., 0., 0., 0., 0., 0., 0., 0., 0., 0., 0., 0., 0., 0.,\n",
            "        0., 0., 0., 0., 0., 0., 0., 0., 0., 0., 0., 0., 0., 0., 0., 0., 0., 0., 0., 0., 0., 0., 0., 0.,\n",
            "        0., 0., 0., 0., 0., 0., 0., 0.], requires_grad=True), Parameter containing:\n",
            "tensor([0., 0., 0., 0., 0., 0., 0., 0., 0., 0., 0., 0., 0., 0., 0., 0., 0., 0., 0., 0., 0., 0., 0., 0.,\n",
            "        0., 0., 0., 0., 0., 0., 0., 0., 0., 0., 0., 0., 0., 0., 0., 0., 0., 0., 0., 0., 0., 0., 0., 0.,\n",
            "        0., 0., 0., 0., 0., 0., 0., 0., 0., 0., 0., 0., 0., 0., 0., 0.],\n",
            "       requires_grad=True)]\n"
          ]
        }
      ],
      "source": [
        "\n",
        "weight_inits = {\n",
        "'zeros': lambda w_or_b: torch.nn.init.zeros_(w_or_b),\n",
        "'ones': lambda w_or_b: torch.nn.init.ones_(w_or_b),\n",
        "'normal': lambda w_or_b: w_or_b.data.normal_(std=0.01),\n",
        "'uniform': lambda w_or_b: torch.nn.init.uniform_(w_or_b),\n",
        "'xavier_uniform': lambda w: torch.nn.init.xavier_uniform_(w),\n",
        "'xavier_normal': lambda w: torch.nn.init.xavier_normal_(w),\n",
        "'kaiming_uniform': lambda w: torch.nn.init.kaiming_uniform_(w),\n",
        "'kaiming_normal': lambda w: torch.nn.init.kaiming_uniform_(w)\n",
        " }\n",
        "\n",
        "def init_weight(layer, mode = ['normal','zeros']):\n",
        "    weight_inits[mode[0]](layer.weight)\n",
        "    weight_inits[mode[1]](layer.bias)\n",
        "\n",
        "for hidden in model.hiddens:\n",
        "    init_weight(hidden, ['xavier_normal','zeros'])\n",
        "\n",
        "# sample from random normal with standard dev = 0.01\n",
        "print([hidden.bias for hidden in model.hiddens], sep='\\n')"
      ]
    },
    {
      "cell_type": "markdown",
      "metadata": {
        "id": "hsPRJHY9vxpY"
      },
      "source": [
        "### Forward pass\n",
        "\n",
        "Now that we have a network, let's see what happens when we pass in an image."
      ]
    },
    {
      "cell_type": "code",
      "execution_count": 241,
      "metadata": {
        "collapsed": true,
        "id": "5IHGONaIvxpY",
        "outputId": "d38c40d1-718a-46fe-beb0-ba0133cb5810",
        "colab": {
          "base_uri": "https://localhost:8080/"
        }
      },
      "outputs": [
        {
          "output_type": "stream",
          "name": "stderr",
          "text": [
            "/usr/local/lib/python3.7/dist-packages/ipykernel_launcher.py:14: UserWarning: Implicit dimension choice for softmax has been deprecated. Change the call to include dim=X as an argument.\n",
            "  \n"
          ]
        },
        {
          "output_type": "execute_result",
          "data": {
            "text/plain": [
              "tensor(1., grad_fn=<SumBackward0>)"
            ]
          },
          "metadata": {},
          "execution_count": 241
        }
      ],
      "source": [
        "# Grab some data \n",
        "dataiter = iter(trainloader)\n",
        "images, labels = dataiter.next()\n",
        "\n",
        "# Resize images into a 1D vector, new shape is (batch size, color channels, image pixels) \n",
        "images.resize_(64, 1, 784)\n",
        "# or images.resize_(images.shape[0], 1, 784) to automatically get batch size\n",
        "\n",
        "# Forward pass through the network\n",
        "img_idx = 0\n",
        "ps = model.forward(images[img_idx,:])\n",
        "\n",
        "img = images[img_idx]\n",
        "ps.sum()\n",
        "\n",
        "#helper.view_classify(img.view(1, 28, 28), ps)"
      ]
    },
    {
      "cell_type": "markdown",
      "metadata": {
        "id": "AdoU6AB7vxpZ"
      },
      "source": [
        "As you can see above, our network has basically no idea what this digit is. It's because we haven't trained it yet, all the weights are random!\n",
        "\n",
        "### Using `nn.Sequential`\n",
        "\n",
        "PyTorch provides a convenient way to build networks like this where a tensor is passed sequentially through operations, `nn.Sequential` ([documentation](https://pytorch.org/docs/master/nn.html#torch.nn.Sequential)). Using this to build the equivalent network:"
      ]
    },
    {
      "cell_type": "code",
      "execution_count": 255,
      "metadata": {
        "collapsed": true,
        "id": "va8_eKzUvxpZ",
        "outputId": "97aefeb2-6a94-42b1-b414-d17c0c71bc86",
        "colab": {
          "base_uri": "https://localhost:8080/"
        }
      },
      "outputs": [
        {
          "output_type": "stream",
          "name": "stdout",
          "text": [
            "Sequential(\n",
            "  (0): Linear(in_features=784, out_features=128, bias=True)\n",
            "  (1): ReLU()\n",
            "  (2): Linear(in_features=128, out_features=64, bias=True)\n",
            "  (3): ReLU()\n",
            "  (4): Linear(in_features=64, out_features=10, bias=True)\n",
            "  (5): Softmax(dim=1)\n",
            ")\n"
          ]
        },
        {
          "output_type": "execute_result",
          "data": {
            "text/plain": [
              "tensor([[0.1010, 0.1060, 0.1170, 0.1080, 0.0930, 0.0930, 0.1090, 0.0850, 0.0960,\n",
              "         0.0900]], grad_fn=<RoundBackward1>)"
            ]
          },
          "metadata": {},
          "execution_count": 255
        }
      ],
      "source": [
        "# Hyperparameters for our network\n",
        "input_size = 784\n",
        "hidden_sizes = [128, 64]\n",
        "output_size = 10\n",
        "\n",
        "# Build a feed-forward network\n",
        "model = nn.Sequential(nn.Linear(input_size, hidden_sizes[0]),\n",
        "                      nn.ReLU(),\n",
        "                      nn.Linear(hidden_sizes[0], hidden_sizes[1]),\n",
        "                      nn.ReLU(),\n",
        "                      nn.Linear(hidden_sizes[1], output_size),\n",
        "                      nn.Softmax(dim=1))\n",
        "print(model)\n",
        "\n",
        "# Forward pass through the network and display output\n",
        "images, labels = next(iter(trainloader))\n",
        "images.resize_(images.shape[0], 1, 784)\n",
        "ps = model.forward(images[0,:])\n",
        "torch.round(ps,decimals = 3)\n",
        "#helper.view_classify(images[0].view(1, 28, 28), ps)"
      ]
    },
    {
      "cell_type": "markdown",
      "metadata": {
        "id": "TBG0sOR1vxpZ"
      },
      "source": [
        "Here our model is the same as before: 784 input units, a hidden layer with 128 units, ReLU activation, 64 unit hidden layer, another ReLU, then the output layer with 10 units, and the softmax output.\n",
        "\n",
        "The operations are available by passing in the appropriate index. For example, if you want to get first Linear operation and look at the weights, you'd use `model[0]`."
      ]
    },
    {
      "cell_type": "code",
      "execution_count": 243,
      "metadata": {
        "collapsed": true,
        "id": "E0I1NEKRvxpa",
        "outputId": "7ff8765b-0145-4ce3-bfb9-43389696afcf",
        "colab": {
          "base_uri": "https://localhost:8080/"
        }
      },
      "outputs": [
        {
          "output_type": "stream",
          "name": "stdout",
          "text": [
            "Linear(in_features=784, out_features=128, bias=True)\n"
          ]
        },
        {
          "output_type": "execute_result",
          "data": {
            "text/plain": [
              "Parameter containing:\n",
              "tensor([[-0.0137,  0.0321, -0.0214,  ...,  0.0018,  0.0132, -0.0199],\n",
              "        [ 0.0101,  0.0025,  0.0209,  ..., -0.0112, -0.0094,  0.0191],\n",
              "        [ 0.0144,  0.0328,  0.0034,  ...,  0.0274,  0.0066, -0.0115],\n",
              "        ...,\n",
              "        [-0.0242,  0.0240,  0.0005,  ...,  0.0265, -0.0190,  0.0235],\n",
              "        [ 0.0217,  0.0221, -0.0124,  ...,  0.0191,  0.0163, -0.0171],\n",
              "        [-0.0173,  0.0227, -0.0210,  ..., -0.0319,  0.0008, -0.0136]],\n",
              "       requires_grad=True)"
            ]
          },
          "metadata": {},
          "execution_count": 243
        }
      ],
      "source": [
        "print(model[0])\n",
        "model[0].weight"
      ]
    },
    {
      "cell_type": "markdown",
      "metadata": {
        "id": "FUzENv8dvxpa"
      },
      "source": [
        "You can also pass in an `OrderedDict` to name the individual layers and operations, instead of using incremental integers. Note that dictionary keys must be unique, so _each operation must have a different name_."
      ]
    },
    {
      "cell_type": "code",
      "execution_count": null,
      "metadata": {
        "collapsed": true,
        "id": "jHQz_VIuvxpb"
      },
      "outputs": [],
      "source": [
        "from collections import OrderedDict\n",
        "model = nn.Sequential(OrderedDict([\n",
        "                      ('fc1', nn.Linear(input_size, hidden_sizes[0])),\n",
        "                      ('relu1', nn.ReLU()),\n",
        "                      ('fc2', nn.Linear(hidden_sizes[0], hidden_sizes[1])),\n",
        "                      ('relu2', nn.ReLU()),\n",
        "                      ('output', nn.Linear(hidden_sizes[1], output_size)),\n",
        "                      ('softmax', nn.Softmax(dim=1))]))\n",
        "model"
      ]
    },
    {
      "cell_type": "markdown",
      "metadata": {
        "id": "d7xM4peGvxpb"
      },
      "source": [
        "Now you can access layers either by integer or the name"
      ]
    },
    {
      "cell_type": "code",
      "execution_count": null,
      "metadata": {
        "collapsed": true,
        "id": "KxairSFsvxpc"
      },
      "outputs": [],
      "source": [
        "print(model[0])\n",
        "print(model.fc1)"
      ]
    },
    {
      "cell_type": "markdown",
      "metadata": {
        "id": "Gfrc2um6vxpc"
      },
      "source": [
        "In the next notebook, we'll see how we can train a neural network to accuractly predict the numbers appearing in the MNIST images."
      ]
    }
  ],
  "metadata": {
    "kernelspec": {
      "display_name": "Python [default]",
      "language": "python",
      "name": "python3"
    },
    "language_info": {
      "codemirror_mode": {
        "name": "ipython",
        "version": 3
      },
      "file_extension": ".py",
      "mimetype": "text/x-python",
      "name": "python",
      "nbconvert_exporter": "python",
      "pygments_lexer": "ipython3",
      "version": "3.6.4"
    },
    "colab": {
      "name": "Part 2 - Neural Networks in PyTorch (Exercises).ipynb",
      "provenance": [],
      "include_colab_link": true
    }
  },
  "nbformat": 4,
  "nbformat_minor": 0
}