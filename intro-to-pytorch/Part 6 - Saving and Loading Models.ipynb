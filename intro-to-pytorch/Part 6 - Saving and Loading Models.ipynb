{
  "cells": [
    {
      "cell_type": "markdown",
      "metadata": {
        "id": "GDJqiQEmPOaL"
      },
      "source": [
        "# Saving and Loading Models\n",
        "\n",
        "In this notebook, I'll show you how to save and load models with PyTorch. This is important because you'll often want to load previously trained models to use in making predictions or to continue training on new data."
      ]
    },
    {
      "cell_type": "code",
      "execution_count": 3,
      "metadata": {
        "id": "YZzIp5-lPOaO"
      },
      "outputs": [],
      "source": [
        "%matplotlib inline\n",
        "%config InlineBackend.figure_format = 'retina'\n",
        "\n",
        "import matplotlib.pyplot as plt\n",
        "\n",
        "import torch\n",
        "from torch import nn\n",
        "from torch import optim\n",
        "import torch.nn.functional as F\n",
        "from torchvision import datasets, transforms\n",
        "\n",
        "# import helper\n",
        "# import fc_model"
      ]
    },
    {
      "cell_type": "markdown",
      "source": [
        "## Data"
      ],
      "metadata": {
        "id": "U05triuMQS01"
      }
    },
    {
      "cell_type": "code",
      "execution_count": 4,
      "metadata": {
        "id": "LBqms7ykPOaR",
        "outputId": "66bacca0-7147-4606-9085-4cc4dcd1b9c6",
        "colab": {
          "base_uri": "https://localhost:8080/",
          "height": 423,
          "referenced_widgets": [
            "139ba01df0a0487e8c54d004c771f500",
            "457ea0b03940453fb28573296cf90c1a",
            "d3f6200335df442cb56a1595cbe104e6",
            "63e06aeec7f74ada91d3f8e947e544be",
            "588053658b9048a68637de0e07c58c9e",
            "e70abb952e7e4d7683f0910b706f7be0",
            "999ac1807d9b45e78d3a98cdb0a551e6",
            "023e34a8c9704c45a8d23c64dbb305d2",
            "5c788c72b3cc478ebc6a1eeac382ee35",
            "d52c68e3d8d044629b77f66eedab113c",
            "5e110ea5864742698ffa027395933aad",
            "c3ef9d8f82af43e69bdc47a6211b6eeb",
            "106da2e48d1a464fa9a3a78bbfa274db",
            "0c03bdaf91c34ef392e80e080e1eec36",
            "1acd1ac3f7044e4f98c57df153de08bb",
            "bee52c09c63946a0baa4608f8410db57",
            "38901f0cbfda4ae8a2a73e4297592f0c",
            "8b332f23386b4b32913e3e0c67894d4c",
            "977da3c9d02a4954a52785eb9c199654",
            "c41f0f3cee044151b90486cd59e54ff0",
            "96f17a55e04945439f7799bc9dcfe7ca",
            "78b08e12e3b64845a1c1631a56ade496",
            "bfeb12c7e6464f8ca8d16ba39feffd90",
            "956021a2350a44de998d81adae7fd861",
            "b6303d2c2abc407e9fc1c222d18a22b4",
            "f30d6013ba4e4fc9bf6fa26dd3b2051b",
            "85ba8c14c6b741d5802f1e362de7f852",
            "7a89c06e262e4ed9a182cce2013b8659",
            "01e3a64c191c4f9d92f140b231d056cb",
            "1c8cdd21096d4263adf4267a07a57bc1",
            "8f97559c8a8c42a98400f55f600640c5",
            "e19e4a6e77e14bcaa249e1523ae26f8c",
            "8c210999e23144939b07cb3dd33ad686",
            "6ca398805a864b52928a211a40682cae",
            "0edbf0ffb20047b2958aac637d2f0b48",
            "9e3375a56d1d48d6978f0c4e1d0b4305",
            "1b6cf71e87e2429d8a7ffbd9e8f8bbdf",
            "adc1c7e935414450ba9925faab693fae",
            "7a868116b32b4e32a2656e3447150a36",
            "93cc482cb44e4c37b2c087bc071c16f4",
            "4142da2c6fa94cf9b61b68b2510c9caa",
            "503ca6f9a98c4b9b87bd2bbffbd67ab3",
            "e6a6b3a8b22a45239d3a1d363bcfa1b1",
            "0158233410164d86a02e5182acf8204e"
          ]
        }
      },
      "outputs": [
        {
          "output_type": "stream",
          "name": "stdout",
          "text": [
            "Downloading http://fashion-mnist.s3-website.eu-central-1.amazonaws.com/train-images-idx3-ubyte.gz\n",
            "Downloading http://fashion-mnist.s3-website.eu-central-1.amazonaws.com/train-images-idx3-ubyte.gz to /root/.pytorch/F_MNIST_data/FashionMNIST/raw/train-images-idx3-ubyte.gz\n"
          ]
        },
        {
          "output_type": "display_data",
          "data": {
            "text/plain": [
              "  0%|          | 0/26421880 [00:00<?, ?it/s]"
            ],
            "application/vnd.jupyter.widget-view+json": {
              "version_major": 2,
              "version_minor": 0,
              "model_id": "139ba01df0a0487e8c54d004c771f500"
            }
          },
          "metadata": {}
        },
        {
          "output_type": "stream",
          "name": "stdout",
          "text": [
            "Extracting /root/.pytorch/F_MNIST_data/FashionMNIST/raw/train-images-idx3-ubyte.gz to /root/.pytorch/F_MNIST_data/FashionMNIST/raw\n",
            "\n",
            "Downloading http://fashion-mnist.s3-website.eu-central-1.amazonaws.com/train-labels-idx1-ubyte.gz\n",
            "Downloading http://fashion-mnist.s3-website.eu-central-1.amazonaws.com/train-labels-idx1-ubyte.gz to /root/.pytorch/F_MNIST_data/FashionMNIST/raw/train-labels-idx1-ubyte.gz\n"
          ]
        },
        {
          "output_type": "display_data",
          "data": {
            "text/plain": [
              "  0%|          | 0/29515 [00:00<?, ?it/s]"
            ],
            "application/vnd.jupyter.widget-view+json": {
              "version_major": 2,
              "version_minor": 0,
              "model_id": "c3ef9d8f82af43e69bdc47a6211b6eeb"
            }
          },
          "metadata": {}
        },
        {
          "output_type": "stream",
          "name": "stdout",
          "text": [
            "Extracting /root/.pytorch/F_MNIST_data/FashionMNIST/raw/train-labels-idx1-ubyte.gz to /root/.pytorch/F_MNIST_data/FashionMNIST/raw\n",
            "\n",
            "Downloading http://fashion-mnist.s3-website.eu-central-1.amazonaws.com/t10k-images-idx3-ubyte.gz\n",
            "Downloading http://fashion-mnist.s3-website.eu-central-1.amazonaws.com/t10k-images-idx3-ubyte.gz to /root/.pytorch/F_MNIST_data/FashionMNIST/raw/t10k-images-idx3-ubyte.gz\n"
          ]
        },
        {
          "output_type": "display_data",
          "data": {
            "text/plain": [
              "  0%|          | 0/4422102 [00:00<?, ?it/s]"
            ],
            "application/vnd.jupyter.widget-view+json": {
              "version_major": 2,
              "version_minor": 0,
              "model_id": "bfeb12c7e6464f8ca8d16ba39feffd90"
            }
          },
          "metadata": {}
        },
        {
          "output_type": "stream",
          "name": "stdout",
          "text": [
            "Extracting /root/.pytorch/F_MNIST_data/FashionMNIST/raw/t10k-images-idx3-ubyte.gz to /root/.pytorch/F_MNIST_data/FashionMNIST/raw\n",
            "\n",
            "Downloading http://fashion-mnist.s3-website.eu-central-1.amazonaws.com/t10k-labels-idx1-ubyte.gz\n",
            "Downloading http://fashion-mnist.s3-website.eu-central-1.amazonaws.com/t10k-labels-idx1-ubyte.gz to /root/.pytorch/F_MNIST_data/FashionMNIST/raw/t10k-labels-idx1-ubyte.gz\n"
          ]
        },
        {
          "output_type": "display_data",
          "data": {
            "text/plain": [
              "  0%|          | 0/5148 [00:00<?, ?it/s]"
            ],
            "application/vnd.jupyter.widget-view+json": {
              "version_major": 2,
              "version_minor": 0,
              "model_id": "6ca398805a864b52928a211a40682cae"
            }
          },
          "metadata": {}
        },
        {
          "output_type": "stream",
          "name": "stdout",
          "text": [
            "Extracting /root/.pytorch/F_MNIST_data/FashionMNIST/raw/t10k-labels-idx1-ubyte.gz to /root/.pytorch/F_MNIST_data/FashionMNIST/raw\n",
            "\n"
          ]
        }
      ],
      "source": [
        "# Define a transform to normalize the data\n",
        "transform = transforms.Compose([transforms.ToTensor(),\n",
        "                                transforms.Normalize((0.5,), (0.5,))])\n",
        "# Download and load the training data\n",
        "trainset = datasets.FashionMNIST('~/.pytorch/F_MNIST_data/', download=True, train=True, transform=transform)\n",
        "trainloader = torch.utils.data.DataLoader(trainset, batch_size=64, shuffle=True)\n",
        "\n",
        "# Download and load the test data\n",
        "testset = datasets.FashionMNIST('~/.pytorch/F_MNIST_data/', download=True, train=False, transform=transform)\n",
        "testloader = torch.utils.data.DataLoader(testset, batch_size=64, shuffle=True)"
      ]
    },
    {
      "cell_type": "markdown",
      "metadata": {
        "id": "sx1Cn-SOPOaS"
      },
      "source": [
        "Here we can see one of the images."
      ]
    },
    {
      "cell_type": "code",
      "execution_count": null,
      "metadata": {
        "id": "QlU8beThPOaT",
        "outputId": "1a251cc6-4f78-4cb9-fc7e-2324b43ea759"
      },
      "outputs": [
        {
          "data": {
            "image/png": "[encoded data removed]",
            "text/plain": [
              "<Figure size 432x288 with 1 Axes>"
            ]
          },
          "metadata": {
            "image/png": {
              "height": 233,
              "width": 233
            },
            "needs_background": "light"
          },
          "output_type": "display_data"
        }
      ],
      "source": [
        "image, label = next(iter(trainloader))\n",
        "helper.imshow(image[0,:]);"
      ]
    },
    {
      "cell_type": "markdown",
      "source": [
        "## Define a Network"
      ],
      "metadata": {
        "id": "9c0lgephQZuE"
      }
    },
    {
      "cell_type": "code",
      "source": [
        "class Network(nn.Module):\n",
        "    def __init__(self, input_size, output_size, hidden_layers, drop_p=0.5):\n",
        "        ''' Builds a feedforward network with arbitrary hidden layers.\n",
        "        \n",
        "            Arguments\n",
        "            ---------\n",
        "            input_size: integer, size of the input layer\n",
        "            output_size: integer, size of the output layer\n",
        "            hidden_layers: list of integers, the sizes of the hidden layers\n",
        "        \n",
        "        '''\n",
        "        super().__init__()\n",
        "        # Input to a hidden layer\n",
        "        self.hidden_layers = nn.ModuleList([nn.Linear(input_size, hidden_layers[0])])\n",
        "        \n",
        "        # Add a variable number of more hidden layers\n",
        "        layer_sizes = zip(hidden_layers[:-1], hidden_layers[1:])\n",
        "        self.hidden_layers.extend([nn.Linear(h1, h2) for h1, h2 in layer_sizes])\n",
        "        \n",
        "        self.output = nn.Linear(hidden_layers[-1], output_size)\n",
        "        \n",
        "        self.dropout = nn.Dropout(p=drop_p)\n",
        "        \n",
        "    def forward(self, x):\n",
        "        ''' Forward pass through the network, returns the output logits '''\n",
        "        \n",
        "        for each in self.hidden_layers:\n",
        "            x = F.relu(each(x))\n",
        "            x = self.dropout(x)\n",
        "        x = self.output(x)\n",
        "        \n",
        "        return F.log_softmax(x, dim=1)\n",
        "\n",
        "\n",
        "def validation(model, testloader, criterion):\n",
        "    accuracy = 0\n",
        "    test_loss = 0\n",
        "    for images, labels in testloader:\n",
        "\n",
        "        images = images.resize_(images.size()[0], 784)\n",
        "\n",
        "        output = model.forward(images)\n",
        "        test_loss += criterion(output, labels).item()\n",
        "\n",
        "        ## Calculating the accuracy \n",
        "        # Model's output is log-softmax, take exponential to get the probabilities\n",
        "        ps = torch.exp(output)\n",
        "        # Class with highest probability is our predicted class, compare with true label\n",
        "        equality = (labels.data == ps.max(1)[1])\n",
        "        # Accuracy is number of correct predictions divided by all predictions, just take the mean\n",
        "        accuracy += equality.type_as(torch.FloatTensor()).mean()\n",
        "\n",
        "    return test_loss, accuracy\n",
        "\n",
        "\n",
        "def train(model, trainloader, testloader, criterion, optimizer, epochs=5, print_every=40):\n",
        "    \n",
        "    steps = 0\n",
        "    running_loss = 0\n",
        "    for e in range(epochs):\n",
        "        # Model in training mode, dropout is on\n",
        "        model.train()\n",
        "        for images, labels in trainloader:\n",
        "            steps += 1\n",
        "            \n",
        "            # Flatten images into a 784 long vector\n",
        "            images.resize_(images.size()[0], 784)\n",
        "            \n",
        "            optimizer.zero_grad()\n",
        "            \n",
        "            output = model.forward(images)\n",
        "            loss = criterion(output, labels)\n",
        "            loss.backward()\n",
        "            optimizer.step()\n",
        "            \n",
        "            running_loss += loss.item()\n",
        "\n",
        "            if steps % print_every == 0:\n",
        "                # Model in inference mode, dropout is off\n",
        "                model.eval()\n",
        "                \n",
        "                # Turn off gradients for validation, will speed up inference\n",
        "                with torch.no_grad():\n",
        "                    test_loss, accuracy = validation(model, testloader, criterion)\n",
        "                \n",
        "                print(\"Epoch: {}/{}.. \".format(e+1, epochs),\n",
        "                      \"Training Loss: {:.3f}.. \".format(running_loss/print_every),\n",
        "                      \"Test Loss: {:.3f}.. \".format(test_loss/len(testloader)),\n",
        "                      \"Test Accuracy: {:.3f}\".format(accuracy/len(testloader)))\n",
        "                \n",
        "                running_loss = 0\n",
        "                \n",
        "                # Make sure dropout and grads are on for training\n",
        "                model.train()"
      ],
      "metadata": {
        "id": "fKxvcOAlPvXU"
      },
      "execution_count": 5,
      "outputs": []
    },
    {
      "cell_type": "markdown",
      "metadata": {
        "id": "WtZksOu2POaV"
      },
      "source": [
        "# Train a network\n",
        "\n",
        "To make things more concise here, I moved the model architecture and training code from the last part to a file called `fc_model`. Importing this, we can easily create a fully-connected network with `fc_model.Network`, and train the network using `fc_model.train`. I'll use this model (once it's trained) to demonstrate how we can save and load models."
      ]
    },
    {
      "cell_type": "code",
      "execution_count": 6,
      "metadata": {
        "id": "YLYyzU6APOaW"
      },
      "outputs": [],
      "source": [
        "# Create the network, define the criterion and optimizer\n",
        "\n",
        "model = Network(784, 10, [512, 256, 128])\n",
        "criterion = nn.NLLLoss()\n",
        "optimizer = optim.Adam(model.parameters(), lr=0.001)"
      ]
    },
    {
      "cell_type": "code",
      "execution_count": 8,
      "metadata": {
        "id": "KMuBCTRLPOaW",
        "outputId": "359292d2-e306-4220-9104-ea46a9297ca2",
        "colab": {
          "base_uri": "https://localhost:8080/"
        }
      },
      "outputs": [
        {
          "output_type": "stream",
          "name": "stdout",
          "text": [
            "Epoch: 1/2..  Training Loss: 0.561..  Test Loss: 0.507..  Test Accuracy: 0.816\n",
            "Epoch: 1/2..  Training Loss: 0.596..  Test Loss: 0.490..  Test Accuracy: 0.813\n",
            "Epoch: 1/2..  Training Loss: 0.543..  Test Loss: 0.486..  Test Accuracy: 0.823\n",
            "Epoch: 1/2..  Training Loss: 0.549..  Test Loss: 0.478..  Test Accuracy: 0.825\n",
            "Epoch: 1/2..  Training Loss: 0.541..  Test Loss: 0.493..  Test Accuracy: 0.820\n",
            "Epoch: 1/2..  Training Loss: 0.558..  Test Loss: 0.484..  Test Accuracy: 0.824\n",
            "Epoch: 1/2..  Training Loss: 0.561..  Test Loss: 0.477..  Test Accuracy: 0.827\n",
            "Epoch: 1/2..  Training Loss: 0.551..  Test Loss: 0.491..  Test Accuracy: 0.819\n",
            "Epoch: 1/2..  Training Loss: 0.523..  Test Loss: 0.481..  Test Accuracy: 0.819\n",
            "Epoch: 1/2..  Training Loss: 0.548..  Test Loss: 0.461..  Test Accuracy: 0.829\n",
            "Epoch: 1/2..  Training Loss: 0.552..  Test Loss: 0.460..  Test Accuracy: 0.826\n",
            "Epoch: 1/2..  Training Loss: 0.528..  Test Loss: 0.468..  Test Accuracy: 0.829\n",
            "Epoch: 1/2..  Training Loss: 0.534..  Test Loss: 0.466..  Test Accuracy: 0.827\n",
            "Epoch: 1/2..  Training Loss: 0.524..  Test Loss: 0.456..  Test Accuracy: 0.830\n",
            "Epoch: 1/2..  Training Loss: 0.528..  Test Loss: 0.453..  Test Accuracy: 0.837\n",
            "Epoch: 1/2..  Training Loss: 0.569..  Test Loss: 0.465..  Test Accuracy: 0.828\n",
            "Epoch: 1/2..  Training Loss: 0.498..  Test Loss: 0.461..  Test Accuracy: 0.835\n",
            "Epoch: 1/2..  Training Loss: 0.511..  Test Loss: 0.464..  Test Accuracy: 0.832\n",
            "Epoch: 1/2..  Training Loss: 0.520..  Test Loss: 0.452..  Test Accuracy: 0.834\n",
            "Epoch: 1/2..  Training Loss: 0.523..  Test Loss: 0.460..  Test Accuracy: 0.831\n",
            "Epoch: 1/2..  Training Loss: 0.522..  Test Loss: 0.442..  Test Accuracy: 0.837\n",
            "Epoch: 1/2..  Training Loss: 0.516..  Test Loss: 0.452..  Test Accuracy: 0.840\n",
            "Epoch: 1/2..  Training Loss: 0.551..  Test Loss: 0.455..  Test Accuracy: 0.836\n",
            "Epoch: 2/2..  Training Loss: 0.466..  Test Loss: 0.482..  Test Accuracy: 0.830\n",
            "Epoch: 2/2..  Training Loss: 0.530..  Test Loss: 0.459..  Test Accuracy: 0.833\n",
            "Epoch: 2/2..  Training Loss: 0.525..  Test Loss: 0.446..  Test Accuracy: 0.840\n",
            "Epoch: 2/2..  Training Loss: 0.496..  Test Loss: 0.435..  Test Accuracy: 0.840\n",
            "Epoch: 2/2..  Training Loss: 0.505..  Test Loss: 0.446..  Test Accuracy: 0.840\n",
            "Epoch: 2/2..  Training Loss: 0.517..  Test Loss: 0.438..  Test Accuracy: 0.841\n",
            "Epoch: 2/2..  Training Loss: 0.490..  Test Loss: 0.435..  Test Accuracy: 0.841\n",
            "Epoch: 2/2..  Training Loss: 0.482..  Test Loss: 0.448..  Test Accuracy: 0.830\n",
            "Epoch: 2/2..  Training Loss: 0.484..  Test Loss: 0.434..  Test Accuracy: 0.839\n",
            "Epoch: 2/2..  Training Loss: 0.481..  Test Loss: 0.439..  Test Accuracy: 0.843\n",
            "Epoch: 2/2..  Training Loss: 0.497..  Test Loss: 0.433..  Test Accuracy: 0.844\n",
            "Epoch: 2/2..  Training Loss: 0.464..  Test Loss: 0.446..  Test Accuracy: 0.839\n",
            "Epoch: 2/2..  Training Loss: 0.511..  Test Loss: 0.435..  Test Accuracy: 0.844\n",
            "Epoch: 2/2..  Training Loss: 0.489..  Test Loss: 0.429..  Test Accuracy: 0.843\n",
            "Epoch: 2/2..  Training Loss: 0.509..  Test Loss: 0.435..  Test Accuracy: 0.843\n",
            "Epoch: 2/2..  Training Loss: 0.517..  Test Loss: 0.435..  Test Accuracy: 0.842\n",
            "Epoch: 2/2..  Training Loss: 0.512..  Test Loss: 0.435..  Test Accuracy: 0.847\n",
            "Epoch: 2/2..  Training Loss: 0.520..  Test Loss: 0.437..  Test Accuracy: 0.844\n",
            "Epoch: 2/2..  Training Loss: 0.491..  Test Loss: 0.426..  Test Accuracy: 0.841\n",
            "Epoch: 2/2..  Training Loss: 0.461..  Test Loss: 0.437..  Test Accuracy: 0.842\n",
            "Epoch: 2/2..  Training Loss: 0.525..  Test Loss: 0.423..  Test Accuracy: 0.846\n",
            "Epoch: 2/2..  Training Loss: 0.504..  Test Loss: 0.423..  Test Accuracy: 0.849\n",
            "Epoch: 2/2..  Training Loss: 0.496..  Test Loss: 0.419..  Test Accuracy: 0.846\n"
          ]
        }
      ],
      "source": [
        "train(model, trainloader, testloader, criterion, optimizer, epochs=2)"
      ]
    },
    {
      "cell_type": "markdown",
      "metadata": {
        "id": "O4Vly-sZPOaY"
      },
      "source": [
        "## Saving and loading networks\n",
        "\n",
        "As you can imagine, it's impractical to train a network every time you need to use it. Instead, we can save trained networks then load them later to train more or use them for predictions.\n",
        "\n",
        "The parameters for PyTorch networks are stored in a model's `state_dict`. We can see the state dict contains the weight and bias matrices for each of our layers."
      ]
    },
    {
      "cell_type": "code",
      "execution_count": 9,
      "metadata": {
        "id": "_OJAFVtVPOaa",
        "outputId": "a80b08fa-72eb-4e15-8dba-0fba1fe1be1f",
        "colab": {
          "base_uri": "https://localhost:8080/"
        }
      },
      "outputs": [
        {
          "output_type": "stream",
          "name": "stdout",
          "text": [
            "Our model: \n",
            "\n",
            " Network(\n",
            "  (hidden_layers): ModuleList(\n",
            "    (0): Linear(in_features=784, out_features=512, bias=True)\n",
            "    (1): Linear(in_features=512, out_features=256, bias=True)\n",
            "    (2): Linear(in_features=256, out_features=128, bias=True)\n",
            "  )\n",
            "  (output): Linear(in_features=128, out_features=10, bias=True)\n",
            "  (dropout): Dropout(p=0.5, inplace=False)\n",
            ") \n",
            "\n",
            "The state dict keys: \n",
            "\n",
            " odict_keys(['hidden_layers.0.weight', 'hidden_layers.0.bias', 'hidden_layers.1.weight', 'hidden_layers.1.bias', 'hidden_layers.2.weight', 'hidden_layers.2.bias', 'output.weight', 'output.bias'])\n"
          ]
        }
      ],
      "source": [
        "print(\"Our model: \\n\\n\", model, '\\n')\n",
        "print(\"The state dict keys: \\n\\n\", model.state_dict().keys())"
      ]
    },
    {
      "cell_type": "code",
      "source": [
        "model.state_dict()['hidden_layers.0.weight']"
      ],
      "metadata": {
        "id": "hZ2MqY5jR1q8",
        "outputId": "64769978-1d5b-4aec-e097-099a0906500f",
        "colab": {
          "base_uri": "https://localhost:8080/"
        }
      },
      "execution_count": 13,
      "outputs": [
        {
          "output_type": "execute_result",
          "data": {
            "text/plain": [
              "tensor([[ 0.0489,  0.0405,  0.0181,  ...,  0.0694,  0.0656,  0.0736],\n",
              "        [ 0.0727,  0.0109,  0.0588,  ...,  0.0351,  0.0165,  0.0137],\n",
              "        [ 0.0018,  0.0485, -0.0060,  ...,  0.0499,  0.0168,  0.0494],\n",
              "        ...,\n",
              "        [ 0.0068, -0.0170, -0.0070,  ..., -0.0170,  0.0168,  0.0249],\n",
              "        [ 0.0314,  0.0550,  0.0011,  ...,  0.0243, -0.0025,  0.0049],\n",
              "        [ 0.0678,  0.0624,  0.0192,  ...,  0.0332,  0.0503,  0.0250]])"
            ]
          },
          "metadata": {},
          "execution_count": 13
        }
      ]
    },
    {
      "cell_type": "markdown",
      "metadata": {
        "id": "aRmeMrkTPOab"
      },
      "source": [
        "The simplest thing to do is simply save the state dict with `torch.save`. For example, we can save it to a file `'checkpoint.pth'`."
      ]
    },
    {
      "cell_type": "code",
      "execution_count": 14,
      "metadata": {
        "id": "wBRIc9vQPOab"
      },
      "outputs": [],
      "source": [
        "torch.save(model.state_dict(), 'checkpoint.pth')"
      ]
    },
    {
      "cell_type": "markdown",
      "metadata": {
        "id": "ZB58v71PPOac"
      },
      "source": [
        "Then we can load the state dict with `torch.load`."
      ]
    },
    {
      "cell_type": "code",
      "execution_count": 16,
      "metadata": {
        "id": "XqIdB7fRPOac",
        "outputId": "1bd77cc9-34ca-4a77-def3-841b08adf05d",
        "colab": {
          "base_uri": "https://localhost:8080/"
        }
      },
      "outputs": [
        {
          "output_type": "stream",
          "name": "stdout",
          "text": [
            "odict_keys(['hidden_layers.0.weight', 'hidden_layers.0.bias', 'hidden_layers.1.weight', 'hidden_layers.1.bias', 'hidden_layers.2.weight', 'hidden_layers.2.bias', 'output.weight', 'output.bias'])\n"
          ]
        }
      ],
      "source": [
        "state_dict = torch.load('checkpoint.pth')\n",
        "print(state_dict.keys())"
      ]
    },
    {
      "cell_type": "markdown",
      "metadata": {
        "id": "nD25f-UFPOad"
      },
      "source": [
        "And to load the state dict in to the network, you do `model.load_state_dict(state_dict)`."
      ]
    },
    {
      "cell_type": "markdown",
      "metadata": {
        "id": "egClsDDlPOad"
      },
      "source": [
        "Seems pretty straightforward, but as usual it's a bit more complicated. Loading the state dict works only if the model architecture is exactly the same as the checkpoint architecture. If I create a model with a different architecture, this fails."
      ]
    },
    {
      "cell_type": "code",
      "execution_count": 20,
      "metadata": {
        "id": "DAKz14aVPOae",
        "outputId": "eb2fda0f-3c2e-402e-bb79-17523671b673",
        "colab": {
          "base_uri": "https://localhost:8080/"
        }
      },
      "outputs": [
        {
          "output_type": "stream",
          "name": "stdout",
          "text": [
            "Before loading:\n",
            " tensor([[ 0.0331, -0.0351,  0.0335,  ...,  0.0082, -0.0109, -0.0115],\n",
            "        [ 0.0236, -0.0077, -0.0263,  ..., -0.0068,  0.0227,  0.0249],\n",
            "        [ 0.0202,  0.0132, -0.0015,  ...,  0.0277, -0.0198, -0.0288],\n",
            "        ...,\n",
            "        [ 0.0146,  0.0148, -0.0102,  ...,  0.0301,  0.0340, -0.0160],\n",
            "        [-0.0242, -0.0239, -0.0337,  ..., -0.0355,  0.0099, -0.0340],\n",
            "        [ 0.0177,  0.0064, -0.0322,  ..., -0.0207,  0.0274,  0.0126]])\n",
            "After loading:\n",
            " tensor([[ 0.0489,  0.0405,  0.0181,  ...,  0.0694,  0.0656,  0.0736],\n",
            "        [ 0.0727,  0.0109,  0.0588,  ...,  0.0351,  0.0165,  0.0137],\n",
            "        [ 0.0018,  0.0485, -0.0060,  ...,  0.0499,  0.0168,  0.0494],\n",
            "        ...,\n",
            "        [ 0.0068, -0.0170, -0.0070,  ..., -0.0170,  0.0168,  0.0249],\n",
            "        [ 0.0314,  0.0550,  0.0011,  ...,  0.0243, -0.0025,  0.0049],\n",
            "        [ 0.0678,  0.0624,  0.0192,  ...,  0.0332,  0.0503,  0.0250]])\n"
          ]
        }
      ],
      "source": [
        "# Try this\n",
        "model = Network(784, 10, [512, 256, 128])\n",
        "# This will throw an error because the tensor sizes are wrong!\n",
        "print(f\"Before loading:\\n\", model.state_dict()['hidden_layers.0.weight'])\n",
        "model.load_state_dict(state_dict)\n",
        "print(f\"After loading:\\n\", model.state_dict()['hidden_layers.0.weight'])"
      ]
    },
    {
      "cell_type": "markdown",
      "metadata": {
        "id": "8R39z235POae"
      },
      "source": [
        "This means we need to rebuild the model exactly as it was when trained. Information about the model architecture needs to be saved in the checkpoint, along with the state dict. To do this, you build a dictionary with all the information you need to compeletely rebuild the model."
      ]
    },
    {
      "cell_type": "code",
      "execution_count": 28,
      "metadata": {
        "id": "r0OkgtL0POaf"
      },
      "outputs": [],
      "source": [
        "checkpoint = {'epoch:':3,\n",
        "              'input_size': 784,\n",
        "              'output_size': 10,\n",
        "              'hidden_layers': [each.out_features for each in model.hidden_layers],\n",
        "              'state_dict': model.state_dict()}\n",
        "\n",
        "torch.save(checkpoint, 'checkpoint.pth')"
      ]
    },
    {
      "cell_type": "markdown",
      "metadata": {
        "id": "Tf89YqgMPOaf"
      },
      "source": [
        "Now the checkpoint has all the necessary information to rebuild the trained model. You can easily make that a function if you want. Similarly, we can write a function to load checkpoints. "
      ]
    },
    {
      "cell_type": "code",
      "execution_count": 29,
      "metadata": {
        "id": "xXCT_KLXPOaf"
      },
      "outputs": [],
      "source": [
        "def load_checkpoint(filepath):\n",
        "    checkpoint = torch.load(filepath)\n",
        "    print(checkpoint)\n",
        "    model = Network(checkpoint['input_size'],\n",
        "                             checkpoint['output_size'],\n",
        "                             checkpoint['hidden_layers'])\n",
        "    model.load_state_dict(checkpoint['state_dict'])\n",
        "    \n",
        "    return model"
      ]
    },
    {
      "cell_type": "code",
      "execution_count": 30,
      "metadata": {
        "id": "QFULtSyyPOag",
        "outputId": "c20dfaaa-fe23-42b3-b5ae-323085cff496",
        "colab": {
          "base_uri": "https://localhost:8080/"
        }
      },
      "outputs": [
        {
          "output_type": "stream",
          "name": "stdout",
          "text": [
            "{'epoch:': 3, 'input_size': 784, 'output_size': 10, 'hidden_layers': [512, 256, 128], 'state_dict': OrderedDict([('hidden_layers.0.weight', tensor([[ 0.0489,  0.0405,  0.0181,  ...,  0.0694,  0.0656,  0.0736],\n",
            "        [ 0.0727,  0.0109,  0.0588,  ...,  0.0351,  0.0165,  0.0137],\n",
            "        [ 0.0018,  0.0485, -0.0060,  ...,  0.0499,  0.0168,  0.0494],\n",
            "        ...,\n",
            "        [ 0.0068, -0.0170, -0.0070,  ..., -0.0170,  0.0168,  0.0249],\n",
            "        [ 0.0314,  0.0550,  0.0011,  ...,  0.0243, -0.0025,  0.0049],\n",
            "        [ 0.0678,  0.0624,  0.0192,  ...,  0.0332,  0.0503,  0.0250]])), ('hidden_layers.0.bias', tensor([-5.7604e-02, -7.5083e-02,  1.1817e-03, -2.8282e-02, -4.7104e-02,\n",
            "        -3.2582e-02,  3.6512e-03, -1.4437e-02, -6.8242e-02, -2.1366e-02,\n",
            "        -4.6246e-05, -2.5066e-02, -3.8371e-02, -2.6069e-02, -5.3620e-02,\n",
            "         2.0232e-02, -7.3527e-03, -2.4176e-02, -6.4947e-02, -6.9247e-02,\n",
            "         4.1745e-02, -5.6457e-02,  6.2275e-03, -4.6607e-02, -2.8482e-02,\n",
            "         4.8369e-03, -2.2274e-02,  2.2523e-02, -6.8731e-03, -6.7716e-02,\n",
            "         3.0685e-04,  1.4500e-04, -2.4181e-02, -7.4398e-04, -1.7590e-02,\n",
            "        -7.0364e-03,  2.7100e-03,  4.0782e-03, -3.3875e-02,  1.4752e-02,\n",
            "        -1.9358e-02, -1.9744e-02, -3.5592e-02, -3.5168e-02, -4.8604e-02,\n",
            "        -5.3440e-02, -1.5990e-02,  4.6116e-03, -1.5274e-02, -2.0435e-02,\n",
            "        -5.6801e-03,  1.3438e-02, -1.2175e-02,  1.9947e-02, -4.3296e-02,\n",
            "         9.8161e-03, -3.1475e-02, -1.1062e-02, -1.3390e-02, -3.4942e-02,\n",
            "        -4.1742e-02, -7.9381e-03, -3.0291e-02, -3.4865e-02,  1.6820e-03,\n",
            "         2.0180e-02, -2.7282e-02, -2.6495e-02, -1.3918e-02, -4.5122e-02,\n",
            "        -4.8230e-02, -5.1077e-02, -2.9704e-02, -2.0849e-02, -3.8249e-03,\n",
            "         1.6911e-02, -1.0787e-02, -3.7955e-02, -1.7021e-02,  4.2991e-03,\n",
            "         1.5896e-03, -6.5390e-03, -1.7511e-02, -4.0748e-02,  7.9072e-04,\n",
            "        -1.3353e-02,  2.5163e-02, -5.2216e-02,  1.8048e-02, -5.6927e-02,\n",
            "        -3.8580e-02, -3.0518e-02,  2.0580e-02, -6.9240e-02,  1.1419e-02,\n",
            "        -4.3453e-02, -3.4596e-02, -2.9983e-02,  1.1611e-02, -5.2071e-02,\n",
            "        -3.7336e-03, -1.9052e-02, -2.1847e-03, -1.2453e-02,  7.2470e-04,\n",
            "        -7.6455e-02, -3.5712e-02, -1.6036e-02,  2.7929e-02,  2.0488e-02,\n",
            "        -2.4852e-02, -3.8832e-03,  5.2380e-03, -4.6961e-02, -5.7941e-02,\n",
            "        -5.9647e-02, -4.6928e-02, -3.8174e-02, -1.2106e-02, -5.6465e-02,\n",
            "        -4.7699e-02, -5.5151e-03,  5.8498e-03, -6.6940e-02, -4.0312e-02,\n",
            "        -1.3935e-02,  3.2259e-02,  2.1933e-02,  5.7416e-03, -4.8428e-02,\n",
            "        -8.6431e-02, -5.3302e-02,  2.7350e-02, -3.9654e-02, -1.3188e-02,\n",
            "        -2.3868e-03,  4.0227e-03, -2.6313e-02, -4.4931e-02, -4.1881e-02,\n",
            "        -2.7285e-02,  4.7282e-04,  2.2641e-02, -5.7270e-02, -2.2353e-02,\n",
            "        -5.8072e-02, -1.8665e-03, -7.9283e-02, -6.1417e-02, -4.1928e-02,\n",
            "        -1.5232e-02,  2.8044e-02, -1.3691e-02, -4.1103e-02, -6.0611e-02,\n",
            "        -3.6400e-02,  1.0682e-02, -1.9748e-02, -5.6361e-02,  2.8269e-02,\n",
            "        -1.0650e-02, -3.8168e-02, -1.9868e-02, -4.7992e-02, -2.8383e-02,\n",
            "        -3.0331e-02, -2.2014e-02, -3.1981e-02, -4.9172e-03, -7.9607e-02,\n",
            "        -1.6530e-02, -6.2886e-02, -1.9071e-02, -7.7574e-02, -3.1497e-02,\n",
            "        -6.3800e-02,  4.9712e-02, -9.5974e-03, -6.5116e-02, -5.8238e-02,\n",
            "        -9.8580e-03, -3.1642e-02,  9.4288e-03,  3.9265e-02, -3.4700e-02,\n",
            "        -7.0355e-03, -2.8499e-02, -1.9815e-03, -1.5685e-02, -4.2901e-02,\n",
            "        -4.1025e-03, -3.0587e-02, -7.0145e-02, -3.1881e-02, -3.3832e-02,\n",
            "        -1.6748e-02, -1.1721e-02, -1.3895e-02, -5.2434e-02, -3.0564e-02,\n",
            "        -1.4253e-02, -5.7468e-02, -4.6638e-02, -4.8862e-02, -5.7681e-02,\n",
            "        -2.6325e-02,  1.4622e-02,  8.1343e-03,  4.3829e-03,  1.2744e-02,\n",
            "         8.0272e-03, -6.0250e-02, -4.6088e-02,  5.3952e-03, -5.6407e-02,\n",
            "        -5.9485e-02, -3.3876e-02,  9.2432e-03,  2.7056e-02, -6.0673e-02,\n",
            "        -1.7542e-02,  5.5778e-03, -5.7389e-02, -3.0280e-02, -1.6977e-02,\n",
            "        -3.5869e-02, -3.6357e-02, -4.3650e-02,  2.0442e-02, -1.4207e-02,\n",
            "         1.4689e-02,  1.0569e-02,  1.1595e-02, -2.3720e-02,  4.2867e-02,\n",
            "        -3.8681e-02, -4.6384e-02,  1.4979e-02, -4.5642e-02,  1.6962e-02,\n",
            "         7.4872e-03, -4.3568e-02, -5.0235e-02,  1.5029e-02, -2.0915e-02,\n",
            "        -3.4417e-03,  5.7975e-03,  2.0875e-02, -6.0764e-02,  3.3627e-02,\n",
            "        -1.9284e-02, -9.2732e-02, -3.0907e-02,  7.1522e-03, -2.0361e-02,\n",
            "         9.5727e-03, -8.9775e-03,  4.2747e-02, -2.8015e-02, -4.7846e-02,\n",
            "        -1.5954e-03,  6.2278e-03, -3.3304e-02,  6.1594e-03, -5.4483e-02,\n",
            "         3.7164e-03, -1.7678e-02, -2.5444e-02, -1.3468e-02, -4.0833e-02,\n",
            "        -5.3710e-02, -3.9893e-02, -1.1942e-02, -4.3073e-02, -8.7490e-04,\n",
            "         3.2278e-03, -3.0869e-02, -1.7909e-02, -7.5684e-02, -4.1418e-02,\n",
            "        -2.8118e-02, -5.3844e-02, -4.6038e-02,  6.7645e-03, -1.9854e-02,\n",
            "        -2.3499e-02, -2.0548e-02, -5.2665e-02, -9.1798e-04, -5.8908e-02,\n",
            "        -8.8324e-03, -1.6256e-02,  1.1361e-02,  7.3129e-03, -3.2138e-02,\n",
            "        -7.1031e-02, -4.6369e-02,  1.9403e-03,  3.2990e-02,  6.0343e-03,\n",
            "        -4.6564e-02, -1.7002e-02, -2.9750e-02, -1.4743e-03, -1.4855e-02,\n",
            "        -2.4520e-02, -1.0314e-02, -6.5244e-02, -3.2468e-02,  2.1774e-02,\n",
            "        -1.4407e-02,  6.7710e-02, -1.4928e-02, -4.0662e-02, -3.3980e-02,\n",
            "        -1.0246e-02,  6.7115e-03, -3.7821e-02, -3.7191e-02,  1.0909e-02,\n",
            "        -9.5909e-03, -7.5673e-02, -3.0365e-02, -4.2000e-02,  4.8154e-03,\n",
            "        -1.0561e-02, -5.5534e-02, -5.7376e-02, -1.0268e-02, -4.9074e-02,\n",
            "        -7.2611e-02, -2.5060e-02, -2.8055e-02, -6.9257e-03, -3.8457e-02,\n",
            "        -3.6985e-02, -7.5171e-02, -1.8020e-03, -8.0174e-03,  2.0767e-02,\n",
            "        -5.7446e-02,  1.2574e-02, -6.8509e-02, -1.3755e-02, -5.6558e-02,\n",
            "        -3.9620e-02, -3.4939e-03,  2.1181e-02, -6.2221e-02, -9.8393e-03,\n",
            "         4.0097e-03, -4.2355e-02, -5.9864e-02, -2.3588e-02, -4.3384e-02,\n",
            "        -3.8095e-03, -6.3672e-02,  4.9426e-03, -2.7471e-02, -7.9485e-02,\n",
            "        -5.3598e-02,  1.0715e-02, -1.7644e-02, -3.7280e-02, -6.8496e-02,\n",
            "        -6.9557e-02, -1.0790e-02, -2.9297e-02, -2.6482e-02, -2.6070e-02,\n",
            "        -4.8412e-02,  5.5097e-03, -2.8852e-02,  4.6728e-03, -1.9942e-02,\n",
            "        -4.9236e-03, -5.8343e-03, -3.5106e-02, -4.0799e-02, -7.0632e-02,\n",
            "        -8.6250e-03,  2.0612e-02, -4.4709e-02, -3.2497e-02, -4.5597e-02,\n",
            "        -4.0953e-02, -1.2503e-02, -3.0492e-02, -1.3782e-02,  1.6053e-02,\n",
            "         2.8719e-02, -5.2921e-02, -3.0671e-02, -1.9060e-02, -6.4573e-02,\n",
            "         2.9224e-03, -5.2285e-02, -1.8117e-02, -3.4113e-02, -2.6348e-02,\n",
            "        -1.6060e-02, -5.1534e-02,  9.9406e-03, -4.6747e-02, -3.2013e-03,\n",
            "         3.1193e-02, -1.0975e-02, -2.6461e-02, -2.8218e-03, -1.6290e-02,\n",
            "        -1.7117e-02,  2.3989e-03, -6.1703e-03, -2.5092e-02, -3.8847e-02,\n",
            "        -2.8496e-02, -4.4093e-02, -3.8968e-02,  1.0488e-03, -5.0162e-02,\n",
            "         5.1875e-02,  4.4312e-04,  1.5330e-02, -2.6418e-02, -2.9720e-02,\n",
            "        -1.0168e-02, -4.8662e-02, -1.4683e-02, -3.0901e-03, -4.0667e-02,\n",
            "        -5.7191e-02, -3.6544e-02, -5.4801e-02,  2.3495e-02, -6.1858e-02,\n",
            "        -3.2455e-02, -1.3354e-02, -1.0470e-02, -5.3647e-02,  2.6003e-02,\n",
            "        -4.8611e-02,  4.9037e-03, -6.8708e-03, -5.1422e-02, -2.4213e-04,\n",
            "        -1.7842e-02, -4.3054e-02, -2.2400e-02, -1.9467e-02, -4.8600e-02,\n",
            "        -2.9785e-02, -6.5957e-03,  4.3674e-02, -5.3690e-02, -9.2944e-03,\n",
            "         1.5731e-02, -4.4267e-02, -2.5178e-02, -5.1868e-02, -5.8572e-02,\n",
            "        -1.8077e-02, -4.1505e-02, -4.2981e-03, -7.6457e-03, -5.7260e-02,\n",
            "        -5.2401e-02, -8.4926e-02, -4.8798e-02,  3.4688e-03,  4.3989e-03,\n",
            "        -3.6829e-02,  8.5652e-03, -5.9214e-02, -4.6708e-02,  1.6106e-02,\n",
            "        -1.0207e-02, -5.6553e-02, -3.6896e-03,  3.6410e-02, -3.9659e-02,\n",
            "        -2.9898e-02,  8.7062e-03, -2.1528e-02, -7.0507e-02, -4.2426e-02,\n",
            "        -6.5862e-02, -1.1997e-02, -3.9563e-03,  1.4261e-02, -3.0591e-03,\n",
            "        -3.8041e-02, -6.9602e-03,  1.4997e-02, -3.8759e-02,  4.5393e-02,\n",
            "        -2.6649e-03, -1.6661e-02,  1.2568e-02,  1.4253e-03, -3.3503e-02,\n",
            "         2.1007e-02, -2.1250e-02, -1.7504e-02, -8.5557e-02, -5.8244e-02,\n",
            "        -5.0087e-02, -1.4726e-02,  1.6180e-03, -4.3506e-02, -5.1726e-03,\n",
            "        -9.1032e-03, -6.6626e-02])), ('hidden_layers.1.weight', tensor([[ 0.0117,  0.0097,  0.0268,  ..., -0.0323, -0.0930,  0.0333],\n",
            "        [-0.0018, -0.0810, -0.0109,  ...,  0.1032,  0.0330, -0.0647],\n",
            "        [ 0.0331,  0.0160,  0.0322,  ...,  0.0165, -0.0646,  0.1404],\n",
            "        ...,\n",
            "        [ 0.0355,  0.0199,  0.0331,  ..., -0.0560, -0.0555,  0.0990],\n",
            "        [ 0.0021,  0.0419,  0.0229,  ...,  0.0558, -0.0690, -0.0986],\n",
            "        [-0.0035, -0.0679,  0.0156,  ..., -0.0179, -0.0619,  0.0725]])), ('hidden_layers.1.bias', tensor([ 4.0525e-02,  2.2474e-02, -3.7303e-03,  5.4960e-02, -3.4795e-02,\n",
            "        -2.5016e-02,  3.0004e-02, -2.9312e-02,  4.9164e-02,  1.1813e-01,\n",
            "         2.7202e-03,  4.8194e-02, -6.5732e-02,  5.6632e-02,  9.2933e-02,\n",
            "        -2.5413e-02,  1.9106e-02,  5.5070e-02, -3.4552e-02,  1.6288e-01,\n",
            "        -1.1017e-01,  1.0805e-01, -2.6011e-03,  2.7071e-02, -5.5650e-02,\n",
            "         2.2765e-02, -2.9668e-02,  9.4131e-02, -6.6157e-02, -2.7326e-02,\n",
            "         2.4389e-02, -2.7826e-02,  9.3393e-02,  9.8289e-02,  3.1669e-02,\n",
            "        -5.7298e-02,  7.8674e-02, -5.8289e-02,  6.2009e-03, -9.4259e-02,\n",
            "        -7.6822e-02, -2.5369e-02, -1.0311e-02, -6.2575e-02, -4.6135e-03,\n",
            "        -4.2792e-02,  1.5245e-01,  5.1505e-02, -2.2299e-02,  1.0838e-01,\n",
            "         2.1613e-02,  1.7019e-01,  9.9148e-03, -4.6829e-02, -1.6072e-02,\n",
            "         3.6368e-02,  2.2798e-02,  2.3522e-02,  1.7198e-02,  4.4229e-02,\n",
            "         6.1890e-02,  1.0313e-01,  6.7756e-02, -5.0277e-02, -1.7963e-02,\n",
            "        -9.7127e-03, -7.0973e-03, -1.5808e-02, -2.4239e-02, -3.9141e-02,\n",
            "         1.4517e-02,  3.7845e-02,  6.6789e-03,  5.2680e-02,  1.2502e-01,\n",
            "        -5.6534e-02,  7.9846e-02,  4.4731e-02, -1.8671e-02, -9.4740e-02,\n",
            "         5.5298e-02,  5.1967e-02,  2.0761e-02, -2.0865e-02,  1.8983e-02,\n",
            "         6.3037e-02,  6.6036e-03, -5.0195e-02,  1.2304e-02, -3.1796e-02,\n",
            "         1.9370e-02,  2.5634e-02,  4.0520e-02,  8.5703e-02,  7.9362e-03,\n",
            "         7.3855e-02, -4.2655e-02, -1.8342e-02,  5.2317e-02, -2.5181e-02,\n",
            "         8.5144e-02,  5.6976e-02,  3.0786e-02, -4.7195e-02, -5.1740e-03,\n",
            "        -1.2086e-02,  3.8090e-02, -4.2297e-02,  2.8698e-02,  1.1907e-02,\n",
            "         1.6266e-01, -4.4215e-02, -2.2194e-02, -7.6600e-02, -4.3888e-03,\n",
            "         3.7920e-02,  3.7822e-02, -3.6838e-02,  1.3374e-01,  1.4202e-02,\n",
            "        -2.8598e-02, -4.8390e-02,  4.5267e-02,  1.0227e-01,  3.6473e-02,\n",
            "         4.9285e-02, -4.1377e-02, -1.5984e-02, -9.0201e-02,  8.6119e-03,\n",
            "         3.1618e-02,  5.0932e-02,  7.9294e-02,  1.8607e-02, -3.7825e-02,\n",
            "        -2.7389e-02,  2.3435e-03,  7.6898e-02, -1.3869e-02,  4.1791e-03,\n",
            "         4.5377e-02,  8.8815e-03,  6.4265e-02, -7.2500e-02, -1.9247e-02,\n",
            "        -7.7154e-02,  7.7388e-03,  6.0988e-02, -2.8580e-02,  8.9137e-02,\n",
            "         8.2011e-02,  1.4584e-01,  8.4338e-02, -2.1085e-04, -5.9535e-04,\n",
            "         9.3652e-02, -1.3943e-02,  2.4702e-02,  8.8334e-02,  8.3999e-02,\n",
            "        -8.4754e-02, -5.1660e-02,  2.7638e-02,  1.3478e-04, -1.4939e-02,\n",
            "         7.3938e-02,  6.9060e-02,  8.5775e-02,  6.3114e-02,  5.0781e-02,\n",
            "        -8.9978e-02, -1.2158e-01,  4.8805e-02, -8.8627e-02,  7.4678e-02,\n",
            "         3.1676e-02, -1.2045e-02,  1.1935e-01,  1.0597e-02,  9.7111e-02,\n",
            "         3.8626e-02, -1.7725e-03,  5.7488e-02,  1.0716e-01, -5.4755e-02,\n",
            "         7.6589e-02,  5.7895e-02,  8.8460e-03, -2.0508e-02,  1.1787e-01,\n",
            "         9.1014e-02, -5.4985e-02,  4.0734e-02, -4.6493e-02,  5.2130e-02,\n",
            "         6.2909e-02,  6.3272e-03, -1.1138e-01,  2.9156e-02,  3.9670e-02,\n",
            "         2.2426e-02,  4.5813e-02,  9.1893e-02, -6.0922e-02,  9.9639e-02,\n",
            "        -3.8706e-02,  5.3900e-02,  2.0207e-02,  1.5180e-01, -5.5523e-02,\n",
            "        -6.0191e-02,  3.8811e-02,  8.1895e-02, -5.7325e-02, -8.8661e-03,\n",
            "         2.1429e-02,  3.0054e-02,  1.0737e-01,  1.0671e-01, -4.1046e-03,\n",
            "         6.8038e-02, -4.4959e-02, -8.2014e-02,  1.0664e-01,  1.0935e-02,\n",
            "         8.9931e-02, -6.1607e-02,  6.7537e-02, -2.9563e-02, -1.8456e-02,\n",
            "         1.7965e-01,  6.9431e-02, -1.3727e-01,  6.4849e-02, -4.1258e-02,\n",
            "         3.9080e-02, -8.1020e-02,  1.0391e-01,  4.6208e-02,  6.6647e-02,\n",
            "         4.8207e-02,  4.1477e-02,  4.8211e-03,  2.8818e-02,  7.3691e-02,\n",
            "         1.0492e-02, -3.6348e-02,  8.5185e-02,  7.9901e-02,  1.1771e-02,\n",
            "        -1.9598e-02, -4.0068e-03,  2.0938e-03, -1.2448e-01,  1.0427e-02,\n",
            "         5.4037e-02])), ('hidden_layers.2.weight', tensor([[-0.0727, -0.0020, -0.0993,  ..., -0.1002,  0.0383, -0.0370],\n",
            "        [-0.0371, -0.0196,  0.0008,  ...,  0.0008,  0.0209,  0.0198],\n",
            "        [-0.0427, -0.0437, -0.0654,  ...,  0.0109, -0.0664, -0.0875],\n",
            "        ...,\n",
            "        [ 0.0811, -0.0444,  0.0079,  ..., -0.0458, -0.0746, -0.0072],\n",
            "        [ 0.0684, -0.0444, -0.0027,  ..., -0.0750, -0.0349,  0.0373],\n",
            "        [ 0.0149, -0.0361, -0.0912,  ...,  0.0352,  0.0845, -0.0631]])), ('hidden_layers.2.bias', tensor([-0.0218,  0.0924, -0.0460,  0.1413,  0.0294,  0.1053,  0.0590,  0.1450,\n",
            "         0.1444,  0.1165,  0.1932,  0.0777,  0.0080,  0.0562,  0.1606, -0.0145,\n",
            "         0.0313,  0.1556,  0.0673,  0.1052,  0.0728,  0.0920,  0.0474,  0.0243,\n",
            "         0.1515,  0.0643,  0.0790,  0.0304,  0.0883,  0.1044,  0.0667,  0.0496,\n",
            "         0.0494,  0.0850,  0.0571,  0.1675,  0.1351,  0.0106,  0.0436,  0.1779,\n",
            "         0.0012,  0.0757,  0.1080, -0.0791,  0.0226,  0.0404, -0.0059,  0.2046,\n",
            "        -0.0173,  0.2266,  0.0951,  0.1244, -0.0120,  0.0884,  0.0470, -0.0256,\n",
            "         0.0053,  0.0474,  0.0341,  0.0220,  0.1437,  0.0480, -0.0594,  0.0238,\n",
            "         0.0174,  0.0797,  0.2896,  0.1598,  0.2408,  0.1274,  0.2553, -0.0184,\n",
            "         0.0713,  0.0609,  0.1106,  0.0492,  0.1275,  0.1202,  0.0402,  0.0666,\n",
            "         0.0579,  0.2184,  0.2103,  0.1457,  0.2349,  0.2011,  0.0306,  0.0843,\n",
            "         0.0725,  0.1190,  0.2296,  0.1514, -0.0371,  0.2692,  0.0688,  0.1114,\n",
            "         0.0400,  0.1261, -0.0903,  0.0409,  0.0180,  0.1146,  0.0797,  0.0313,\n",
            "         0.1150,  0.0341,  0.0839,  0.0935,  0.0985,  0.1077,  0.0470,  0.2298,\n",
            "         0.0267,  0.0623,  0.0851,  0.1428,  0.0570, -0.0026,  0.0471,  0.0109,\n",
            "        -0.0628,  0.1408, -0.0206,  0.2140,  0.0152,  0.0069,  0.1344,  0.1335])), ('output.weight', tensor([[ 0.0174, -0.0084, -0.0055,  ..., -0.0255,  0.0229,  0.0687],\n",
            "        [ 0.0406, -0.1778,  0.0041,  ..., -0.1176, -0.1468, -0.0351],\n",
            "        [-0.1459, -0.0447,  0.0516,  ..., -0.0123,  0.0214, -0.0017],\n",
            "        ...,\n",
            "        [ 0.0731,  0.0523,  0.0305,  ...,  0.0818,  0.0251,  0.0325],\n",
            "        [ 0.0238, -0.0796, -0.0826,  ...,  0.0877,  0.0815,  0.0941],\n",
            "        [ 0.0763,  0.0660, -0.0111,  ...,  0.0263, -0.0812, -0.0482]])), ('output.bias', tensor([-0.1423, -0.3130,  0.0594,  0.1402, -0.0688,  0.0560, -0.0215,  0.0620,\n",
            "         0.0098, -0.0188]))])}\n",
            "Network(\n",
            "  (hidden_layers): ModuleList(\n",
            "    (0): Linear(in_features=784, out_features=512, bias=True)\n",
            "    (1): Linear(in_features=512, out_features=256, bias=True)\n",
            "    (2): Linear(in_features=256, out_features=128, bias=True)\n",
            "  )\n",
            "  (output): Linear(in_features=128, out_features=10, bias=True)\n",
            "  (dropout): Dropout(p=0.5, inplace=False)\n",
            ")\n"
          ]
        }
      ],
      "source": [
        "model = load_checkpoint('checkpoint.pth')\n",
        "print(model)"
      ]
    },
    {
      "cell_type": "code",
      "source": [
        ""
      ],
      "metadata": {
        "id": "W7YS-bQsTepj"
      },
      "execution_count": null,
      "outputs": []
    }
  ],
  "metadata": {
    "kernelspec": {
      "display_name": "Python 3",
      "language": "python",
      "name": "python3"
    },
    "language_info": {
      "codemirror_mode": {
        "name": "ipython",
        "version": 3
      },
      "file_extension": ".py",
      "mimetype": "text/x-python",
      "name": "python",
      "nbconvert_exporter": "python",
      "pygments_lexer": "ipython3",
      "version": "3.6.6"
    },
    "colab": {
      "name": "Part 6 - Saving and Loading Models.ipynb",
      "provenance": []
    },
    "widgets": {
      "application/vnd.jupyter.widget-state+json": {
        "139ba01df0a0487e8c54d004c771f500": {
          "model_module": "@jupyter-widgets/controls",
          "model_name": "HBoxModel",
          "model_module_version": "1.5.0",
          "state": {
            "_dom_classes": [],
            "_model_module": "@jupyter-widgets/controls",
            "_model_module_version": "1.5.0",
            "_model_name": "HBoxModel",
            "_view_count": null,
            "_view_module": "@jupyter-widgets/controls",
            "_view_module_version": "1.5.0",
            "_view_name": "HBoxView",
            "box_style": "",
            "children": [
              "IPY_MODEL_457ea0b03940453fb28573296cf90c1a",
              "IPY_MODEL_d3f6200335df442cb56a1595cbe104e6",
              "IPY_MODEL_63e06aeec7f74ada91d3f8e947e544be"
            ],
            "layout": "IPY_MODEL_588053658b9048a68637de0e07c58c9e"
          }
        },
        "457ea0b03940453fb28573296cf90c1a": {
          "model_module": "@jupyter-widgets/controls",
          "model_name": "HTMLModel",
          "model_module_version": "1.5.0",
          "state": {
            "_dom_classes": [],
            "_model_module": "@jupyter-widgets/controls",
            "_model_module_version": "1.5.0",
            "_model_name": "HTMLModel",
            "_view_count": null,
            "_view_module": "@jupyter-widgets/controls",
            "_view_module_version": "1.5.0",
            "_view_name": "HTMLView",
            "description": "",
            "description_tooltip": null,
            "layout": "IPY_MODEL_e70abb952e7e4d7683f0910b706f7be0",
            "placeholder": "​",
            "style": "IPY_MODEL_999ac1807d9b45e78d3a98cdb0a551e6",
            "value": ""
          }
        },
        "d3f6200335df442cb56a1595cbe104e6": {
          "model_module": "@jupyter-widgets/controls",
          "model_name": "FloatProgressModel",
          "model_module_version": "1.5.0",
          "state": {
            "_dom_classes": [],
            "_model_module": "@jupyter-widgets/controls",
            "_model_module_version": "1.5.0",
            "_model_name": "FloatProgressModel",
            "_view_count": null,
            "_view_module": "@jupyter-widgets/controls",
            "_view_module_version": "1.5.0",
            "_view_name": "ProgressView",
            "bar_style": "success",
            "description": "",
            "description_tooltip": null,
            "layout": "IPY_MODEL_023e34a8c9704c45a8d23c64dbb305d2",
            "max": 26421880,
            "min": 0,
            "orientation": "horizontal",
            "style": "IPY_MODEL_5c788c72b3cc478ebc6a1eeac382ee35",
            "value": 26421880
          }
        },
        "63e06aeec7f74ada91d3f8e947e544be": {
          "model_module": "@jupyter-widgets/controls",
          "model_name": "HTMLModel",
          "model_module_version": "1.5.0",
          "state": {
            "_dom_classes": [],
            "_model_module": "@jupyter-widgets/controls",
            "_model_module_version": "1.5.0",
            "_model_name": "HTMLModel",
            "_view_count": null,
            "_view_module": "@jupyter-widgets/controls",
            "_view_module_version": "1.5.0",
            "_view_name": "HTMLView",
            "description": "",
            "description_tooltip": null,
            "layout": "IPY_MODEL_d52c68e3d8d044629b77f66eedab113c",
            "placeholder": "​",
            "style": "IPY_MODEL_5e110ea5864742698ffa027395933aad",
            "value": " 26422272/? [00:01&lt;00:00, 26482599.29it/s]"
          }
        },
        "588053658b9048a68637de0e07c58c9e": {
          "model_module": "@jupyter-widgets/base",
          "model_name": "LayoutModel",
          "model_module_version": "1.2.0",
          "state": {
            "_model_module": "@jupyter-widgets/base",
            "_model_module_version": "1.2.0",
            "_model_name": "LayoutModel",
            "_view_count": null,
            "_view_module": "@jupyter-widgets/base",
            "_view_module_version": "1.2.0",
            "_view_name": "LayoutView",
            "align_content": null,
            "align_items": null,
            "align_self": null,
            "border": null,
            "bottom": null,
            "display": null,
            "flex": null,
            "flex_flow": null,
            "grid_area": null,
            "grid_auto_columns": null,
            "grid_auto_flow": null,
            "grid_auto_rows": null,
            "grid_column": null,
            "grid_gap": null,
            "grid_row": null,
            "grid_template_areas": null,
            "grid_template_columns": null,
            "grid_template_rows": null,
            "height": null,
            "justify_content": null,
            "justify_items": null,
            "left": null,
            "margin": null,
            "max_height": null,
            "max_width": null,
            "min_height": null,
            "min_width": null,
            "object_fit": null,
            "object_position": null,
            "order": null,
            "overflow": null,
            "overflow_x": null,
            "overflow_y": null,
            "padding": null,
            "right": null,
            "top": null,
            "visibility": null,
            "width": null
          }
        },
        "e70abb952e7e4d7683f0910b706f7be0": {
          "model_module": "@jupyter-widgets/base",
          "model_name": "LayoutModel",
          "model_module_version": "1.2.0",
          "state": {
            "_model_module": "@jupyter-widgets/base",
            "_model_module_version": "1.2.0",
            "_model_name": "LayoutModel",
            "_view_count": null,
            "_view_module": "@jupyter-widgets/base",
            "_view_module_version": "1.2.0",
            "_view_name": "LayoutView",
            "align_content": null,
            "align_items": null,
            "align_self": null,
            "border": null,
            "bottom": null,
            "display": null,
            "flex": null,
            "flex_flow": null,
            "grid_area": null,
            "grid_auto_columns": null,
            "grid_auto_flow": null,
            "grid_auto_rows": null,
            "grid_column": null,
            "grid_gap": null,
            "grid_row": null,
            "grid_template_areas": null,
            "grid_template_columns": null,
            "grid_template_rows": null,
            "height": null,
            "justify_content": null,
            "justify_items": null,
            "left": null,
            "margin": null,
            "max_height": null,
            "max_width": null,
            "min_height": null,
            "min_width": null,
            "object_fit": null,
            "object_position": null,
            "order": null,
            "overflow": null,
            "overflow_x": null,
            "overflow_y": null,
            "padding": null,
            "right": null,
            "top": null,
            "visibility": null,
            "width": null
          }
        },
        "999ac1807d9b45e78d3a98cdb0a551e6": {
          "model_module": "@jupyter-widgets/controls",
          "model_name": "DescriptionStyleModel",
          "model_module_version": "1.5.0",
          "state": {
            "_model_module": "@jupyter-widgets/controls",
            "_model_module_version": "1.5.0",
            "_model_name": "DescriptionStyleModel",
            "_view_count": null,
            "_view_module": "@jupyter-widgets/base",
            "_view_module_version": "1.2.0",
            "_view_name": "StyleView",
            "description_width": ""
          }
        },
        "023e34a8c9704c45a8d23c64dbb305d2": {
          "model_module": "@jupyter-widgets/base",
          "model_name": "LayoutModel",
          "model_module_version": "1.2.0",
          "state": {
            "_model_module": "@jupyter-widgets/base",
            "_model_module_version": "1.2.0",
            "_model_name": "LayoutModel",
            "_view_count": null,
            "_view_module": "@jupyter-widgets/base",
            "_view_module_version": "1.2.0",
            "_view_name": "LayoutView",
            "align_content": null,
            "align_items": null,
            "align_self": null,
            "border": null,
            "bottom": null,
            "display": null,
            "flex": null,
            "flex_flow": null,
            "grid_area": null,
            "grid_auto_columns": null,
            "grid_auto_flow": null,
            "grid_auto_rows": null,
            "grid_column": null,
            "grid_gap": null,
            "grid_row": null,
            "grid_template_areas": null,
            "grid_template_columns": null,
            "grid_template_rows": null,
            "height": null,
            "justify_content": null,
            "justify_items": null,
            "left": null,
            "margin": null,
            "max_height": null,
            "max_width": null,
            "min_height": null,
            "min_width": null,
            "object_fit": null,
            "object_position": null,
            "order": null,
            "overflow": null,
            "overflow_x": null,
            "overflow_y": null,
            "padding": null,
            "right": null,
            "top": null,
            "visibility": null,
            "width": null
          }
        },
        "5c788c72b3cc478ebc6a1eeac382ee35": {
          "model_module": "@jupyter-widgets/controls",
          "model_name": "ProgressStyleModel",
          "model_module_version": "1.5.0",
          "state": {
            "_model_module": "@jupyter-widgets/controls",
            "_model_module_version": "1.5.0",
            "_model_name": "ProgressStyleModel",
            "_view_count": null,
            "_view_module": "@jupyter-widgets/base",
            "_view_module_version": "1.2.0",
            "_view_name": "StyleView",
            "bar_color": null,
            "description_width": ""
          }
        },
        "d52c68e3d8d044629b77f66eedab113c": {
          "model_module": "@jupyter-widgets/base",
          "model_name": "LayoutModel",
          "model_module_version": "1.2.0",
          "state": {
            "_model_module": "@jupyter-widgets/base",
            "_model_module_version": "1.2.0",
            "_model_name": "LayoutModel",
            "_view_count": null,
            "_view_module": "@jupyter-widgets/base",
            "_view_module_version": "1.2.0",
            "_view_name": "LayoutView",
            "align_content": null,
            "align_items": null,
            "align_self": null,
            "border": null,
            "bottom": null,
            "display": null,
            "flex": null,
            "flex_flow": null,
            "grid_area": null,
            "grid_auto_columns": null,
            "grid_auto_flow": null,
            "grid_auto_rows": null,
            "grid_column": null,
            "grid_gap": null,
            "grid_row": null,
            "grid_template_areas": null,
            "grid_template_columns": null,
            "grid_template_rows": null,
            "height": null,
            "justify_content": null,
            "justify_items": null,
            "left": null,
            "margin": null,
            "max_height": null,
            "max_width": null,
            "min_height": null,
            "min_width": null,
            "object_fit": null,
            "object_position": null,
            "order": null,
            "overflow": null,
            "overflow_x": null,
            "overflow_y": null,
            "padding": null,
            "right": null,
            "top": null,
            "visibility": null,
            "width": null
          }
        },
        "5e110ea5864742698ffa027395933aad": {
          "model_module": "@jupyter-widgets/controls",
          "model_name": "DescriptionStyleModel",
          "model_module_version": "1.5.0",
          "state": {
            "_model_module": "@jupyter-widgets/controls",
            "_model_module_version": "1.5.0",
            "_model_name": "DescriptionStyleModel",
            "_view_count": null,
            "_view_module": "@jupyter-widgets/base",
            "_view_module_version": "1.2.0",
            "_view_name": "StyleView",
            "description_width": ""
          }
        },
        "c3ef9d8f82af43e69bdc47a6211b6eeb": {
          "model_module": "@jupyter-widgets/controls",
          "model_name": "HBoxModel",
          "model_module_version": "1.5.0",
          "state": {
            "_dom_classes": [],
            "_model_module": "@jupyter-widgets/controls",
            "_model_module_version": "1.5.0",
            "_model_name": "HBoxModel",
            "_view_count": null,
            "_view_module": "@jupyter-widgets/controls",
            "_view_module_version": "1.5.0",
            "_view_name": "HBoxView",
            "box_style": "",
            "children": [
              "IPY_MODEL_106da2e48d1a464fa9a3a78bbfa274db",
              "IPY_MODEL_0c03bdaf91c34ef392e80e080e1eec36",
              "IPY_MODEL_1acd1ac3f7044e4f98c57df153de08bb"
            ],
            "layout": "IPY_MODEL_bee52c09c63946a0baa4608f8410db57"
          }
        },
        "106da2e48d1a464fa9a3a78bbfa274db": {
          "model_module": "@jupyter-widgets/controls",
          "model_name": "HTMLModel",
          "model_module_version": "1.5.0",
          "state": {
            "_dom_classes": [],
            "_model_module": "@jupyter-widgets/controls",
            "_model_module_version": "1.5.0",
            "_model_name": "HTMLModel",
            "_view_count": null,
            "_view_module": "@jupyter-widgets/controls",
            "_view_module_version": "1.5.0",
            "_view_name": "HTMLView",
            "description": "",
            "description_tooltip": null,
            "layout": "IPY_MODEL_38901f0cbfda4ae8a2a73e4297592f0c",
            "placeholder": "​",
            "style": "IPY_MODEL_8b332f23386b4b32913e3e0c67894d4c",
            "value": ""
          }
        },
        "0c03bdaf91c34ef392e80e080e1eec36": {
          "model_module": "@jupyter-widgets/controls",
          "model_name": "FloatProgressModel",
          "model_module_version": "1.5.0",
          "state": {
            "_dom_classes": [],
            "_model_module": "@jupyter-widgets/controls",
            "_model_module_version": "1.5.0",
            "_model_name": "FloatProgressModel",
            "_view_count": null,
            "_view_module": "@jupyter-widgets/controls",
            "_view_module_version": "1.5.0",
            "_view_name": "ProgressView",
            "bar_style": "success",
            "description": "",
            "description_tooltip": null,
            "layout": "IPY_MODEL_977da3c9d02a4954a52785eb9c199654",
            "max": 29515,
            "min": 0,
            "orientation": "horizontal",
            "style": "IPY_MODEL_c41f0f3cee044151b90486cd59e54ff0",
            "value": 29515
          }
        },
        "1acd1ac3f7044e4f98c57df153de08bb": {
          "model_module": "@jupyter-widgets/controls",
          "model_name": "HTMLModel",
          "model_module_version": "1.5.0",
          "state": {
            "_dom_classes": [],
            "_model_module": "@jupyter-widgets/controls",
            "_model_module_version": "1.5.0",
            "_model_name": "HTMLModel",
            "_view_count": null,
            "_view_module": "@jupyter-widgets/controls",
            "_view_module_version": "1.5.0",
            "_view_name": "HTMLView",
            "description": "",
            "description_tooltip": null,
            "layout": "IPY_MODEL_96f17a55e04945439f7799bc9dcfe7ca",
            "placeholder": "​",
            "style": "IPY_MODEL_78b08e12e3b64845a1c1631a56ade496",
            "value": " 29696/? [00:00&lt;00:00, 122238.37it/s]"
          }
        },
        "bee52c09c63946a0baa4608f8410db57": {
          "model_module": "@jupyter-widgets/base",
          "model_name": "LayoutModel",
          "model_module_version": "1.2.0",
          "state": {
            "_model_module": "@jupyter-widgets/base",
            "_model_module_version": "1.2.0",
            "_model_name": "LayoutModel",
            "_view_count": null,
            "_view_module": "@jupyter-widgets/base",
            "_view_module_version": "1.2.0",
            "_view_name": "LayoutView",
            "align_content": null,
            "align_items": null,
            "align_self": null,
            "border": null,
            "bottom": null,
            "display": null,
            "flex": null,
            "flex_flow": null,
            "grid_area": null,
            "grid_auto_columns": null,
            "grid_auto_flow": null,
            "grid_auto_rows": null,
            "grid_column": null,
            "grid_gap": null,
            "grid_row": null,
            "grid_template_areas": null,
            "grid_template_columns": null,
            "grid_template_rows": null,
            "height": null,
            "justify_content": null,
            "justify_items": null,
            "left": null,
            "margin": null,
            "max_height": null,
            "max_width": null,
            "min_height": null,
            "min_width": null,
            "object_fit": null,
            "object_position": null,
            "order": null,
            "overflow": null,
            "overflow_x": null,
            "overflow_y": null,
            "padding": null,
            "right": null,
            "top": null,
            "visibility": null,
            "width": null
          }
        },
        "38901f0cbfda4ae8a2a73e4297592f0c": {
          "model_module": "@jupyter-widgets/base",
          "model_name": "LayoutModel",
          "model_module_version": "1.2.0",
          "state": {
            "_model_module": "@jupyter-widgets/base",
            "_model_module_version": "1.2.0",
            "_model_name": "LayoutModel",
            "_view_count": null,
            "_view_module": "@jupyter-widgets/base",
            "_view_module_version": "1.2.0",
            "_view_name": "LayoutView",
            "align_content": null,
            "align_items": null,
            "align_self": null,
            "border": null,
            "bottom": null,
            "display": null,
            "flex": null,
            "flex_flow": null,
            "grid_area": null,
            "grid_auto_columns": null,
            "grid_auto_flow": null,
            "grid_auto_rows": null,
            "grid_column": null,
            "grid_gap": null,
            "grid_row": null,
            "grid_template_areas": null,
            "grid_template_columns": null,
            "grid_template_rows": null,
            "height": null,
            "justify_content": null,
            "justify_items": null,
            "left": null,
            "margin": null,
            "max_height": null,
            "max_width": null,
            "min_height": null,
            "min_width": null,
            "object_fit": null,
            "object_position": null,
            "order": null,
            "overflow": null,
            "overflow_x": null,
            "overflow_y": null,
            "padding": null,
            "right": null,
            "top": null,
            "visibility": null,
            "width": null
          }
        },
        "8b332f23386b4b32913e3e0c67894d4c": {
          "model_module": "@jupyter-widgets/controls",
          "model_name": "DescriptionStyleModel",
          "model_module_version": "1.5.0",
          "state": {
            "_model_module": "@jupyter-widgets/controls",
            "_model_module_version": "1.5.0",
            "_model_name": "DescriptionStyleModel",
            "_view_count": null,
            "_view_module": "@jupyter-widgets/base",
            "_view_module_version": "1.2.0",
            "_view_name": "StyleView",
            "description_width": ""
          }
        },
        "977da3c9d02a4954a52785eb9c199654": {
          "model_module": "@jupyter-widgets/base",
          "model_name": "LayoutModel",
          "model_module_version": "1.2.0",
          "state": {
            "_model_module": "@jupyter-widgets/base",
            "_model_module_version": "1.2.0",
            "_model_name": "LayoutModel",
            "_view_count": null,
            "_view_module": "@jupyter-widgets/base",
            "_view_module_version": "1.2.0",
            "_view_name": "LayoutView",
            "align_content": null,
            "align_items": null,
            "align_self": null,
            "border": null,
            "bottom": null,
            "display": null,
            "flex": null,
            "flex_flow": null,
            "grid_area": null,
            "grid_auto_columns": null,
            "grid_auto_flow": null,
            "grid_auto_rows": null,
            "grid_column": null,
            "grid_gap": null,
            "grid_row": null,
            "grid_template_areas": null,
            "grid_template_columns": null,
            "grid_template_rows": null,
            "height": null,
            "justify_content": null,
            "justify_items": null,
            "left": null,
            "margin": null,
            "max_height": null,
            "max_width": null,
            "min_height": null,
            "min_width": null,
            "object_fit": null,
            "object_position": null,
            "order": null,
            "overflow": null,
            "overflow_x": null,
            "overflow_y": null,
            "padding": null,
            "right": null,
            "top": null,
            "visibility": null,
            "width": null
          }
        },
        "c41f0f3cee044151b90486cd59e54ff0": {
          "model_module": "@jupyter-widgets/controls",
          "model_name": "ProgressStyleModel",
          "model_module_version": "1.5.0",
          "state": {
            "_model_module": "@jupyter-widgets/controls",
            "_model_module_version": "1.5.0",
            "_model_name": "ProgressStyleModel",
            "_view_count": null,
            "_view_module": "@jupyter-widgets/base",
            "_view_module_version": "1.2.0",
            "_view_name": "StyleView",
            "bar_color": null,
            "description_width": ""
          }
        },
        "96f17a55e04945439f7799bc9dcfe7ca": {
          "model_module": "@jupyter-widgets/base",
          "model_name": "LayoutModel",
          "model_module_version": "1.2.0",
          "state": {
            "_model_module": "@jupyter-widgets/base",
            "_model_module_version": "1.2.0",
            "_model_name": "LayoutModel",
            "_view_count": null,
            "_view_module": "@jupyter-widgets/base",
            "_view_module_version": "1.2.0",
            "_view_name": "LayoutView",
            "align_content": null,
            "align_items": null,
            "align_self": null,
            "border": null,
            "bottom": null,
            "display": null,
            "flex": null,
            "flex_flow": null,
            "grid_area": null,
            "grid_auto_columns": null,
            "grid_auto_flow": null,
            "grid_auto_rows": null,
            "grid_column": null,
            "grid_gap": null,
            "grid_row": null,
            "grid_template_areas": null,
            "grid_template_columns": null,
            "grid_template_rows": null,
            "height": null,
            "justify_content": null,
            "justify_items": null,
            "left": null,
            "margin": null,
            "max_height": null,
            "max_width": null,
            "min_height": null,
            "min_width": null,
            "object_fit": null,
            "object_position": null,
            "order": null,
            "overflow": null,
            "overflow_x": null,
            "overflow_y": null,
            "padding": null,
            "right": null,
            "top": null,
            "visibility": null,
            "width": null
          }
        },
        "78b08e12e3b64845a1c1631a56ade496": {
          "model_module": "@jupyter-widgets/controls",
          "model_name": "DescriptionStyleModel",
          "model_module_version": "1.5.0",
          "state": {
            "_model_module": "@jupyter-widgets/controls",
            "_model_module_version": "1.5.0",
            "_model_name": "DescriptionStyleModel",
            "_view_count": null,
            "_view_module": "@jupyter-widgets/base",
            "_view_module_version": "1.2.0",
            "_view_name": "StyleView",
            "description_width": ""
          }
        },
        "bfeb12c7e6464f8ca8d16ba39feffd90": {
          "model_module": "@jupyter-widgets/controls",
          "model_name": "HBoxModel",
          "model_module_version": "1.5.0",
          "state": {
            "_dom_classes": [],
            "_model_module": "@jupyter-widgets/controls",
            "_model_module_version": "1.5.0",
            "_model_name": "HBoxModel",
            "_view_count": null,
            "_view_module": "@jupyter-widgets/controls",
            "_view_module_version": "1.5.0",
            "_view_name": "HBoxView",
            "box_style": "",
            "children": [
              "IPY_MODEL_956021a2350a44de998d81adae7fd861",
              "IPY_MODEL_b6303d2c2abc407e9fc1c222d18a22b4",
              "IPY_MODEL_f30d6013ba4e4fc9bf6fa26dd3b2051b"
            ],
            "layout": "IPY_MODEL_85ba8c14c6b741d5802f1e362de7f852"
          }
        },
        "956021a2350a44de998d81adae7fd861": {
          "model_module": "@jupyter-widgets/controls",
          "model_name": "HTMLModel",
          "model_module_version": "1.5.0",
          "state": {
            "_dom_classes": [],
            "_model_module": "@jupyter-widgets/controls",
            "_model_module_version": "1.5.0",
            "_model_name": "HTMLModel",
            "_view_count": null,
            "_view_module": "@jupyter-widgets/controls",
            "_view_module_version": "1.5.0",
            "_view_name": "HTMLView",
            "description": "",
            "description_tooltip": null,
            "layout": "IPY_MODEL_7a89c06e262e4ed9a182cce2013b8659",
            "placeholder": "​",
            "style": "IPY_MODEL_01e3a64c191c4f9d92f140b231d056cb",
            "value": ""
          }
        },
        "b6303d2c2abc407e9fc1c222d18a22b4": {
          "model_module": "@jupyter-widgets/controls",
          "model_name": "FloatProgressModel",
          "model_module_version": "1.5.0",
          "state": {
            "_dom_classes": [],
            "_model_module": "@jupyter-widgets/controls",
            "_model_module_version": "1.5.0",
            "_model_name": "FloatProgressModel",
            "_view_count": null,
            "_view_module": "@jupyter-widgets/controls",
            "_view_module_version": "1.5.0",
            "_view_name": "ProgressView",
            "bar_style": "success",
            "description": "",
            "description_tooltip": null,
            "layout": "IPY_MODEL_1c8cdd21096d4263adf4267a07a57bc1",
            "max": 4422102,
            "min": 0,
            "orientation": "horizontal",
            "style": "IPY_MODEL_8f97559c8a8c42a98400f55f600640c5",
            "value": 4422102
          }
        },
        "f30d6013ba4e4fc9bf6fa26dd3b2051b": {
          "model_module": "@jupyter-widgets/controls",
          "model_name": "HTMLModel",
          "model_module_version": "1.5.0",
          "state": {
            "_dom_classes": [],
            "_model_module": "@jupyter-widgets/controls",
            "_model_module_version": "1.5.0",
            "_model_name": "HTMLModel",
            "_view_count": null,
            "_view_module": "@jupyter-widgets/controls",
            "_view_module_version": "1.5.0",
            "_view_name": "HTMLView",
            "description": "",
            "description_tooltip": null,
            "layout": "IPY_MODEL_e19e4a6e77e14bcaa249e1523ae26f8c",
            "placeholder": "​",
            "style": "IPY_MODEL_8c210999e23144939b07cb3dd33ad686",
            "value": " 4422656/? [00:00&lt;00:00, 9782356.03it/s]"
          }
        },
        "85ba8c14c6b741d5802f1e362de7f852": {
          "model_module": "@jupyter-widgets/base",
          "model_name": "LayoutModel",
          "model_module_version": "1.2.0",
          "state": {
            "_model_module": "@jupyter-widgets/base",
            "_model_module_version": "1.2.0",
            "_model_name": "LayoutModel",
            "_view_count": null,
            "_view_module": "@jupyter-widgets/base",
            "_view_module_version": "1.2.0",
            "_view_name": "LayoutView",
            "align_content": null,
            "align_items": null,
            "align_self": null,
            "border": null,
            "bottom": null,
            "display": null,
            "flex": null,
            "flex_flow": null,
            "grid_area": null,
            "grid_auto_columns": null,
            "grid_auto_flow": null,
            "grid_auto_rows": null,
            "grid_column": null,
            "grid_gap": null,
            "grid_row": null,
            "grid_template_areas": null,
            "grid_template_columns": null,
            "grid_template_rows": null,
            "height": null,
            "justify_content": null,
            "justify_items": null,
            "left": null,
            "margin": null,
            "max_height": null,
            "max_width": null,
            "min_height": null,
            "min_width": null,
            "object_fit": null,
            "object_position": null,
            "order": null,
            "overflow": null,
            "overflow_x": null,
            "overflow_y": null,
            "padding": null,
            "right": null,
            "top": null,
            "visibility": null,
            "width": null
          }
        },
        "7a89c06e262e4ed9a182cce2013b8659": {
          "model_module": "@jupyter-widgets/base",
          "model_name": "LayoutModel",
          "model_module_version": "1.2.0",
          "state": {
            "_model_module": "@jupyter-widgets/base",
            "_model_module_version": "1.2.0",
            "_model_name": "LayoutModel",
            "_view_count": null,
            "_view_module": "@jupyter-widgets/base",
            "_view_module_version": "1.2.0",
            "_view_name": "LayoutView",
            "align_content": null,
            "align_items": null,
            "align_self": null,
            "border": null,
            "bottom": null,
            "display": null,
            "flex": null,
            "flex_flow": null,
            "grid_area": null,
            "grid_auto_columns": null,
            "grid_auto_flow": null,
            "grid_auto_rows": null,
            "grid_column": null,
            "grid_gap": null,
            "grid_row": null,
            "grid_template_areas": null,
            "grid_template_columns": null,
            "grid_template_rows": null,
            "height": null,
            "justify_content": null,
            "justify_items": null,
            "left": null,
            "margin": null,
            "max_height": null,
            "max_width": null,
            "min_height": null,
            "min_width": null,
            "object_fit": null,
            "object_position": null,
            "order": null,
            "overflow": null,
            "overflow_x": null,
            "overflow_y": null,
            "padding": null,
            "right": null,
            "top": null,
            "visibility": null,
            "width": null
          }
        },
        "01e3a64c191c4f9d92f140b231d056cb": {
          "model_module": "@jupyter-widgets/controls",
          "model_name": "DescriptionStyleModel",
          "model_module_version": "1.5.0",
          "state": {
            "_model_module": "@jupyter-widgets/controls",
            "_model_module_version": "1.5.0",
            "_model_name": "DescriptionStyleModel",
            "_view_count": null,
            "_view_module": "@jupyter-widgets/base",
            "_view_module_version": "1.2.0",
            "_view_name": "StyleView",
            "description_width": ""
          }
        },
        "1c8cdd21096d4263adf4267a07a57bc1": {
          "model_module": "@jupyter-widgets/base",
          "model_name": "LayoutModel",
          "model_module_version": "1.2.0",
          "state": {
            "_model_module": "@jupyter-widgets/base",
            "_model_module_version": "1.2.0",
            "_model_name": "LayoutModel",
            "_view_count": null,
            "_view_module": "@jupyter-widgets/base",
            "_view_module_version": "1.2.0",
            "_view_name": "LayoutView",
            "align_content": null,
            "align_items": null,
            "align_self": null,
            "border": null,
            "bottom": null,
            "display": null,
            "flex": null,
            "flex_flow": null,
            "grid_area": null,
            "grid_auto_columns": null,
            "grid_auto_flow": null,
            "grid_auto_rows": null,
            "grid_column": null,
            "grid_gap": null,
            "grid_row": null,
            "grid_template_areas": null,
            "grid_template_columns": null,
            "grid_template_rows": null,
            "height": null,
            "justify_content": null,
            "justify_items": null,
            "left": null,
            "margin": null,
            "max_height": null,
            "max_width": null,
            "min_height": null,
            "min_width": null,
            "object_fit": null,
            "object_position": null,
            "order": null,
            "overflow": null,
            "overflow_x": null,
            "overflow_y": null,
            "padding": null,
            "right": null,
            "top": null,
            "visibility": null,
            "width": null
          }
        },
        "8f97559c8a8c42a98400f55f600640c5": {
          "model_module": "@jupyter-widgets/controls",
          "model_name": "ProgressStyleModel",
          "model_module_version": "1.5.0",
          "state": {
            "_model_module": "@jupyter-widgets/controls",
            "_model_module_version": "1.5.0",
            "_model_name": "ProgressStyleModel",
            "_view_count": null,
            "_view_module": "@jupyter-widgets/base",
            "_view_module_version": "1.2.0",
            "_view_name": "StyleView",
            "bar_color": null,
            "description_width": ""
          }
        },
        "e19e4a6e77e14bcaa249e1523ae26f8c": {
          "model_module": "@jupyter-widgets/base",
          "model_name": "LayoutModel",
          "model_module_version": "1.2.0",
          "state": {
            "_model_module": "@jupyter-widgets/base",
            "_model_module_version": "1.2.0",
            "_model_name": "LayoutModel",
            "_view_count": null,
            "_view_module": "@jupyter-widgets/base",
            "_view_module_version": "1.2.0",
            "_view_name": "LayoutView",
            "align_content": null,
            "align_items": null,
            "align_self": null,
            "border": null,
            "bottom": null,
            "display": null,
            "flex": null,
            "flex_flow": null,
            "grid_area": null,
            "grid_auto_columns": null,
            "grid_auto_flow": null,
            "grid_auto_rows": null,
            "grid_column": null,
            "grid_gap": null,
            "grid_row": null,
            "grid_template_areas": null,
            "grid_template_columns": null,
            "grid_template_rows": null,
            "height": null,
            "justify_content": null,
            "justify_items": null,
            "left": null,
            "margin": null,
            "max_height": null,
            "max_width": null,
            "min_height": null,
            "min_width": null,
            "object_fit": null,
            "object_position": null,
            "order": null,
            "overflow": null,
            "overflow_x": null,
            "overflow_y": null,
            "padding": null,
            "right": null,
            "top": null,
            "visibility": null,
            "width": null
          }
        },
        "8c210999e23144939b07cb3dd33ad686": {
          "model_module": "@jupyter-widgets/controls",
          "model_name": "DescriptionStyleModel",
          "model_module_version": "1.5.0",
          "state": {
            "_model_module": "@jupyter-widgets/controls",
            "_model_module_version": "1.5.0",
            "_model_name": "DescriptionStyleModel",
            "_view_count": null,
            "_view_module": "@jupyter-widgets/base",
            "_view_module_version": "1.2.0",
            "_view_name": "StyleView",
            "description_width": ""
          }
        },
        "6ca398805a864b52928a211a40682cae": {
          "model_module": "@jupyter-widgets/controls",
          "model_name": "HBoxModel",
          "model_module_version": "1.5.0",
          "state": {
            "_dom_classes": [],
            "_model_module": "@jupyter-widgets/controls",
            "_model_module_version": "1.5.0",
            "_model_name": "HBoxModel",
            "_view_count": null,
            "_view_module": "@jupyter-widgets/controls",
            "_view_module_version": "1.5.0",
            "_view_name": "HBoxView",
            "box_style": "",
            "children": [
              "IPY_MODEL_0edbf0ffb20047b2958aac637d2f0b48",
              "IPY_MODEL_9e3375a56d1d48d6978f0c4e1d0b4305",
              "IPY_MODEL_1b6cf71e87e2429d8a7ffbd9e8f8bbdf"
            ],
            "layout": "IPY_MODEL_adc1c7e935414450ba9925faab693fae"
          }
        },
        "0edbf0ffb20047b2958aac637d2f0b48": {
          "model_module": "@jupyter-widgets/controls",
          "model_name": "HTMLModel",
          "model_module_version": "1.5.0",
          "state": {
            "_dom_classes": [],
            "_model_module": "@jupyter-widgets/controls",
            "_model_module_version": "1.5.0",
            "_model_name": "HTMLModel",
            "_view_count": null,
            "_view_module": "@jupyter-widgets/controls",
            "_view_module_version": "1.5.0",
            "_view_name": "HTMLView",
            "description": "",
            "description_tooltip": null,
            "layout": "IPY_MODEL_7a868116b32b4e32a2656e3447150a36",
            "placeholder": "​",
            "style": "IPY_MODEL_93cc482cb44e4c37b2c087bc071c16f4",
            "value": ""
          }
        },
        "9e3375a56d1d48d6978f0c4e1d0b4305": {
          "model_module": "@jupyter-widgets/controls",
          "model_name": "FloatProgressModel",
          "model_module_version": "1.5.0",
          "state": {
            "_dom_classes": [],
            "_model_module": "@jupyter-widgets/controls",
            "_model_module_version": "1.5.0",
            "_model_name": "FloatProgressModel",
            "_view_count": null,
            "_view_module": "@jupyter-widgets/controls",
            "_view_module_version": "1.5.0",
            "_view_name": "ProgressView",
            "bar_style": "success",
            "description": "",
            "description_tooltip": null,
            "layout": "IPY_MODEL_4142da2c6fa94cf9b61b68b2510c9caa",
            "max": 5148,
            "min": 0,
            "orientation": "horizontal",
            "style": "IPY_MODEL_503ca6f9a98c4b9b87bd2bbffbd67ab3",
            "value": 5148
          }
        },
        "1b6cf71e87e2429d8a7ffbd9e8f8bbdf": {
          "model_module": "@jupyter-widgets/controls",
          "model_name": "HTMLModel",
          "model_module_version": "1.5.0",
          "state": {
            "_dom_classes": [],
            "_model_module": "@jupyter-widgets/controls",
            "_model_module_version": "1.5.0",
            "_model_name": "HTMLModel",
            "_view_count": null,
            "_view_module": "@jupyter-widgets/controls",
            "_view_module_version": "1.5.0",
            "_view_name": "HTMLView",
            "description": "",
            "description_tooltip": null,
            "layout": "IPY_MODEL_e6a6b3a8b22a45239d3a1d363bcfa1b1",
            "placeholder": "​",
            "style": "IPY_MODEL_0158233410164d86a02e5182acf8204e",
            "value": " 6144/? [00:00&lt;00:00, 116259.30it/s]"
          }
        },
        "adc1c7e935414450ba9925faab693fae": {
          "model_module": "@jupyter-widgets/base",
          "model_name": "LayoutModel",
          "model_module_version": "1.2.0",
          "state": {
            "_model_module": "@jupyter-widgets/base",
            "_model_module_version": "1.2.0",
            "_model_name": "LayoutModel",
            "_view_count": null,
            "_view_module": "@jupyter-widgets/base",
            "_view_module_version": "1.2.0",
            "_view_name": "LayoutView",
            "align_content": null,
            "align_items": null,
            "align_self": null,
            "border": null,
            "bottom": null,
            "display": null,
            "flex": null,
            "flex_flow": null,
            "grid_area": null,
            "grid_auto_columns": null,
            "grid_auto_flow": null,
            "grid_auto_rows": null,
            "grid_column": null,
            "grid_gap": null,
            "grid_row": null,
            "grid_template_areas": null,
            "grid_template_columns": null,
            "grid_template_rows": null,
            "height": null,
            "justify_content": null,
            "justify_items": null,
            "left": null,
            "margin": null,
            "max_height": null,
            "max_width": null,
            "min_height": null,
            "min_width": null,
            "object_fit": null,
            "object_position": null,
            "order": null,
            "overflow": null,
            "overflow_x": null,
            "overflow_y": null,
            "padding": null,
            "right": null,
            "top": null,
            "visibility": null,
            "width": null
          }
        },
        "7a868116b32b4e32a2656e3447150a36": {
          "model_module": "@jupyter-widgets/base",
          "model_name": "LayoutModel",
          "model_module_version": "1.2.0",
          "state": {
            "_model_module": "@jupyter-widgets/base",
            "_model_module_version": "1.2.0",
            "_model_name": "LayoutModel",
            "_view_count": null,
            "_view_module": "@jupyter-widgets/base",
            "_view_module_version": "1.2.0",
            "_view_name": "LayoutView",
            "align_content": null,
            "align_items": null,
            "align_self": null,
            "border": null,
            "bottom": null,
            "display": null,
            "flex": null,
            "flex_flow": null,
            "grid_area": null,
            "grid_auto_columns": null,
            "grid_auto_flow": null,
            "grid_auto_rows": null,
            "grid_column": null,
            "grid_gap": null,
            "grid_row": null,
            "grid_template_areas": null,
            "grid_template_columns": null,
            "grid_template_rows": null,
            "height": null,
            "justify_content": null,
            "justify_items": null,
            "left": null,
            "margin": null,
            "max_height": null,
            "max_width": null,
            "min_height": null,
            "min_width": null,
            "object_fit": null,
            "object_position": null,
            "order": null,
            "overflow": null,
            "overflow_x": null,
            "overflow_y": null,
            "padding": null,
            "right": null,
            "top": null,
            "visibility": null,
            "width": null
          }
        },
        "93cc482cb44e4c37b2c087bc071c16f4": {
          "model_module": "@jupyter-widgets/controls",
          "model_name": "DescriptionStyleModel",
          "model_module_version": "1.5.0",
          "state": {
            "_model_module": "@jupyter-widgets/controls",
            "_model_module_version": "1.5.0",
            "_model_name": "DescriptionStyleModel",
            "_view_count": null,
            "_view_module": "@jupyter-widgets/base",
            "_view_module_version": "1.2.0",
            "_view_name": "StyleView",
            "description_width": ""
          }
        },
        "4142da2c6fa94cf9b61b68b2510c9caa": {
          "model_module": "@jupyter-widgets/base",
          "model_name": "LayoutModel",
          "model_module_version": "1.2.0",
          "state": {
            "_model_module": "@jupyter-widgets/base",
            "_model_module_version": "1.2.0",
            "_model_name": "LayoutModel",
            "_view_count": null,
            "_view_module": "@jupyter-widgets/base",
            "_view_module_version": "1.2.0",
            "_view_name": "LayoutView",
            "align_content": null,
            "align_items": null,
            "align_self": null,
            "border": null,
            "bottom": null,
            "display": null,
            "flex": null,
            "flex_flow": null,
            "grid_area": null,
            "grid_auto_columns": null,
            "grid_auto_flow": null,
            "grid_auto_rows": null,
            "grid_column": null,
            "grid_gap": null,
            "grid_row": null,
            "grid_template_areas": null,
            "grid_template_columns": null,
            "grid_template_rows": null,
            "height": null,
            "justify_content": null,
            "justify_items": null,
            "left": null,
            "margin": null,
            "max_height": null,
            "max_width": null,
            "min_height": null,
            "min_width": null,
            "object_fit": null,
            "object_position": null,
            "order": null,
            "overflow": null,
            "overflow_x": null,
            "overflow_y": null,
            "padding": null,
            "right": null,
            "top": null,
            "visibility": null,
            "width": null
          }
        },
        "503ca6f9a98c4b9b87bd2bbffbd67ab3": {
          "model_module": "@jupyter-widgets/controls",
          "model_name": "ProgressStyleModel",
          "model_module_version": "1.5.0",
          "state": {
            "_model_module": "@jupyter-widgets/controls",
            "_model_module_version": "1.5.0",
            "_model_name": "ProgressStyleModel",
            "_view_count": null,
            "_view_module": "@jupyter-widgets/base",
            "_view_module_version": "1.2.0",
            "_view_name": "StyleView",
            "bar_color": null,
            "description_width": ""
          }
        },
        "e6a6b3a8b22a45239d3a1d363bcfa1b1": {
          "model_module": "@jupyter-widgets/base",
          "model_name": "LayoutModel",
          "model_module_version": "1.2.0",
          "state": {
            "_model_module": "@jupyter-widgets/base",
            "_model_module_version": "1.2.0",
            "_model_name": "LayoutModel",
            "_view_count": null,
            "_view_module": "@jupyter-widgets/base",
            "_view_module_version": "1.2.0",
            "_view_name": "LayoutView",
            "align_content": null,
            "align_items": null,
            "align_self": null,
            "border": null,
            "bottom": null,
            "display": null,
            "flex": null,
            "flex_flow": null,
            "grid_area": null,
            "grid_auto_columns": null,
            "grid_auto_flow": null,
            "grid_auto_rows": null,
            "grid_column": null,
            "grid_gap": null,
            "grid_row": null,
            "grid_template_areas": null,
            "grid_template_columns": null,
            "grid_template_rows": null,
            "height": null,
            "justify_content": null,
            "justify_items": null,
            "left": null,
            "margin": null,
            "max_height": null,
            "max_width": null,
            "min_height": null,
            "min_width": null,
            "object_fit": null,
            "object_position": null,
            "order": null,
            "overflow": null,
            "overflow_x": null,
            "overflow_y": null,
            "padding": null,
            "right": null,
            "top": null,
            "visibility": null,
            "width": null
          }
        },
        "0158233410164d86a02e5182acf8204e": {
          "model_module": "@jupyter-widgets/controls",
          "model_name": "DescriptionStyleModel",
          "model_module_version": "1.5.0",
          "state": {
            "_model_module": "@jupyter-widgets/controls",
            "_model_module_version": "1.5.0",
            "_model_name": "DescriptionStyleModel",
            "_view_count": null,
            "_view_module": "@jupyter-widgets/base",
            "_view_module_version": "1.2.0",
            "_view_name": "StyleView",
            "description_width": ""
          }
        }
      }
    }
  },
  "nbformat": 4,
  "nbformat_minor": 0
}